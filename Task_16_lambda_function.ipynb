{
 "cells": [
  {
   "cell_type": "markdown",
   "metadata": {},
   "source": [
    "## DAY 16 Lambda Function"
   ]
  },
  {
   "cell_type": "markdown",
   "metadata": {},
   "source": [
    "#### Create a lambda function that multiplies argument x with argument y\n"
   ]
  },
  {
   "cell_type": "code",
   "execution_count": 1,
   "metadata": {},
   "outputs": [
    {
     "name": "stdout",
     "output_type": "stream",
     "text": [
      "15\n"
     ]
    }
   ],
   "source": [
    "mul = lambda x,y : x*y\n",
    "print(mul(3,5))"
   ]
  },
  {
   "cell_type": "markdown",
   "metadata": {},
   "source": [
    "#### Write a Python program to create Fibonacci series to n using Lambda"
   ]
  },
  {
   "cell_type": "code",
   "execution_count": 2,
   "metadata": {},
   "outputs": [
    {
     "name": "stdout",
     "output_type": "stream",
     "text": [
      "[0, 1, 1, 2, 3, 5, 8, 13, 21, 34]\n"
     ]
    }
   ],
   "source": [
    "from functools import reduce\n",
    "\n",
    "fib= lambda y : reduce(lambda x, _: x + [x[-1] + x[-2]], range(y - 1), [0, 1])\n",
    "\n",
    "print(fib(9))"
   ]
  },
  {
   "cell_type": "markdown",
   "metadata": {},
   "source": [
    "#### Write a Python program that multiply each number of given list with a given number "
   ]
  },
  {
   "cell_type": "code",
   "execution_count": 6,
   "metadata": {},
   "outputs": [
    {
     "name": "stdout",
     "output_type": "stream",
     "text": [
      "Given List : [2, 5, 8, 12, 24, 4]\n",
      "After Multiplying with given number 5 : [10, 25, 40, 60, 120, 20]\n"
     ]
    }
   ],
   "source": [
    "list_num = [2,5,8,12,24,4]\n",
    "n = 5\n",
    "print(f'Given List : {list_num}')\n",
    "list1 =list(map(lambda x:x*n,list_num))\n",
    "print(f'After Multiplying with given number {n} : {list1}')\n"
   ]
  },
  {
   "cell_type": "markdown",
   "metadata": {},
   "source": [
    "#### •\tWrite a Python program to find numbers divisible by 9 from a list of numbers "
   ]
  },
  {
   "cell_type": "code",
   "execution_count": 14,
   "metadata": {},
   "outputs": [
    {
     "name": "stdout",
     "output_type": "stream",
     "text": [
      "List of Numbers: [9, 81, 78, 56, 67, 68, 90, 34]\n",
      "Number divisible by 9 : [9, 81, 90]\n"
     ]
    }
   ],
   "source": [
    "list_num = [9,81,78,56,67,68,90,34]\n",
    "print(f'List of Numbers: {list_num}')\n",
    "div = list(filter(lambda x : x%9 == 0,list_num))\n",
    "print(f'Number divisible by 9 : {div}')\n"
   ]
  },
  {
   "cell_type": "markdown",
   "metadata": {},
   "source": [
    "#### •\tWrite a Python program to count the even numbers in a given list of integers "
   ]
  },
  {
   "cell_type": "code",
   "execution_count": 24,
   "metadata": {},
   "outputs": [
    {
     "name": "stdout",
     "output_type": "stream",
     "text": [
      "[20, 1, 83, 5, 42, 45, 63, 0, 66, 90, 76, 24, 75, 14, 98]\n",
      "Count of Even Numbers: 9\n"
     ]
    }
   ],
   "source": [
    "l = [20, 1, 83, 5, 42, 45, 63, 0, 66, 90, 76, 24, 75, 14, 98]\n",
    "print(l)\n",
    "\n",
    "even_list = list(filter(lambda x : x %2 == 0, l))\n",
    "print(f'Count of Even Numbers: {len(even_list)}')"
   ]
  },
  {
   "cell_type": "code",
   "execution_count": null,
   "metadata": {},
   "outputs": [],
   "source": []
  }
 ],
 "metadata": {
  "kernelspec": {
   "display_name": "Python 3",
   "language": "python",
   "name": "python3"
  },
  "language_info": {
   "codemirror_mode": {
    "name": "ipython",
    "version": 3
   },
   "file_extension": ".py",
   "mimetype": "text/x-python",
   "name": "python",
   "nbconvert_exporter": "python",
   "pygments_lexer": "ipython3",
   "version": "3.7.6"
  }
 },
 "nbformat": 4,
 "nbformat_minor": 4
}
