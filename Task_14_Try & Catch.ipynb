{
 "cells": [
  {
   "cell_type": "markdown",
   "metadata": {},
   "source": [
    "## Day 14 – Try & Catch"
   ]
  },
  {
   "cell_type": "markdown",
   "metadata": {},
   "source": [
    "#### 1) List down all the error types and check all the errors using a python program for all errors"
   ]
  },
  {
   "cell_type": "code",
   "execution_count": 3,
   "metadata": {},
   "outputs": [
    {
     "name": "stdout",
     "output_type": "stream",
     "text": [
      "Enter any number: 5\n",
      "Indefinite Value\n"
     ]
    }
   ],
   "source": [
    "#ZeroDivisionError\n",
    "input1 = int(input('Enter any number: '))\n",
    "n = 0\n",
    "try:\n",
    "    print(input1/n)\n",
    "    \n",
    "except ZeroDivisionError:\n",
    "    print('Indefinite Value')"
   ]
  },
  {
   "cell_type": "code",
   "execution_count": 4,
   "metadata": {},
   "outputs": [
    {
     "name": "stdout",
     "output_type": "stream",
     "text": [
      "Varible not defined\n"
     ]
    }
   ],
   "source": [
    "#NameError\n",
    "val = 'This Value'\n",
    "try:\n",
    "    print(val1)\n",
    "    \n",
    "except NameError:\n",
    "    print('Varible not defined')"
   ]
  },
  {
   "cell_type": "code",
   "execution_count": 5,
   "metadata": {},
   "outputs": [
    {
     "name": "stdout",
     "output_type": "stream",
     "text": [
      "This Value\n"
     ]
    }
   ],
   "source": [
    "#NameError\n",
    "val = 'This Value'\n",
    "try:\n",
    "    print(val)\n",
    "    \n",
    "except NameError:\n",
    "    print('Varible not defined')"
   ]
  },
  {
   "cell_type": "markdown",
   "metadata": {},
   "source": [
    "#### 2)\tDesign a simple calculator app with try and except for all use cases"
   ]
  },
  {
   "cell_type": "code",
   "execution_count": 6,
   "metadata": {},
   "outputs": [
    {
     "name": "stdout",
     "output_type": "stream",
     "text": [
      "Calculator\n",
      "1.Add\n",
      "2.Substract\n",
      "3.Multiply\n",
      "4.Divide\n",
      "\n",
      "\n",
      "Enter Choice(1-4): 4\n",
      "Enter A:10\n",
      "Enter B:0\n",
      "Division by zero is not possible\n"
     ]
    }
   ],
   "source": [
    "def add(n1,n2):\n",
    "    try:\n",
    "        print(n1+n2)\n",
    "    except TypeError as t:\n",
    "        print(t)\n",
    "        \n",
    "def sub(n1,n2):\n",
    "    \n",
    "    try:\n",
    "        print(n1-n2)\n",
    "    except Exception as e:\n",
    "        print(e)\n",
    "def Mul(n1,n2):\n",
    "    \n",
    "    try:\n",
    "        print(n1*n2)\n",
    "    except Exception as e:\n",
    "        print(e)\n",
    "def div(n1,n2):\n",
    "    \n",
    "    try:\n",
    "        print(n1/n2)\n",
    "    except ZeroDivisionError as e:\n",
    "        print('Division by zero is not possible')\n",
    "\n",
    "print(\"Calculator\")\n",
    "print(\"1.Add\")\n",
    "print(\"2.Substract\")\n",
    "print(\"3.Multiply\")\n",
    "print(\"4.Divide\")\n",
    "print('\\n')\n",
    "\n",
    "# input choice\n",
    "ch=int(input(\"Enter Choice(1-4): \"))\n",
    "\n",
    "if ch==1:\n",
    "    a=int(input(\"Enter A:\"))\n",
    "    b=int(input(\"Enter B:\"))\n",
    "    add(a,b)\n",
    "elif ch==2:\n",
    "    a=int(input(\"Enter A:\"))\n",
    "    b=int(input(\"Enter B:\"))\n",
    "    sub(a,b)\n",
    "    print(\"Difference = \",c)\n",
    "elif  ch==3:\n",
    "    a=int(input(\"Enter A:\"))\n",
    "    b=int(input(\"Enter B:\"))\n",
    "    mul(a,b)\n",
    "    print(\"Product = \",c)\n",
    "elif ch==4:\n",
    "    a=int(input(\"Enter A:\"))\n",
    "    b=int(input(\"Enter B:\"))\n",
    "    div(a,b)\n",
    "\n",
    "else:\n",
    "    print(\"Invalid Choice\")"
   ]
  },
  {
   "cell_type": "markdown",
   "metadata": {},
   "source": [
    "#### 3)\tPrint one message if the try block raises a NameError and another for other errors"
   ]
  },
  {
   "cell_type": "code",
   "execution_count": 9,
   "metadata": {},
   "outputs": [
    {
     "name": "stdout",
     "output_type": "stream",
     "text": [
      "Division by Zero is not possible\n"
     ]
    }
   ],
   "source": [
    "a = 8\n",
    "b = 0\n",
    "\n",
    "try:\n",
    "    print(a/b)\n",
    "    \n",
    "except TypeError as e:\n",
    "    print(e)\n",
    "    \n",
    "except ZeroDivisionError:\n",
    "    print('Division by Zero is not possible')\n",
    "    \n",
    "else:\n",
    "    print('Successfully Calculated')"
   ]
  },
  {
   "cell_type": "markdown",
   "metadata": {},
   "source": [
    "#### When try-except scenario is not required?"
   ]
  },
  {
   "cell_type": "code",
   "execution_count": 10,
   "metadata": {},
   "outputs": [],
   "source": [
    "#If you don't have enough information about the use case,the caller of your method wants to implement. \n",
    "#it can be used for minor errors like ZeroDivisionError, NameError,etc which does not affect the flow \n",
    "#of code."
   ]
  },
  {
   "cell_type": "markdown",
   "metadata": {},
   "source": [
    "#### Try getting an input inside the try catch block"
   ]
  },
  {
   "cell_type": "code",
   "execution_count": 12,
   "metadata": {},
   "outputs": [
    {
     "name": "stdout",
     "output_type": "stream",
     "text": [
      "Enter any number: 25\n",
      "Enter any number: 25\n",
      "unsupported operand type(s) for +: 'int' and 'str'\n"
     ]
    }
   ],
   "source": [
    "try:\n",
    "    user = int(input('Enter any number: '))\n",
    "    user1 = input(('Enter any number: '))\n",
    "    add = print(user + user1)\n",
    "    \n",
    "except Exception as e:\n",
    "    print(e)"
   ]
  },
  {
   "cell_type": "code",
   "execution_count": 13,
   "metadata": {},
   "outputs": [
    {
     "name": "stdout",
     "output_type": "stream",
     "text": [
      "Enter any number: 25\n",
      "Enter any number: 215\n",
      "240\n"
     ]
    }
   ],
   "source": [
    "try:\n",
    "    user = int(input('Enter any number: '))\n",
    "    user1 = int(input('Enter any number: '))\n",
    "    add = print(user + user1)\n",
    "    \n",
    "except Exception as e:\n",
    "    print(e)"
   ]
  },
  {
   "cell_type": "code",
   "execution_count": null,
   "metadata": {},
   "outputs": [],
   "source": []
  }
 ],
 "metadata": {
  "kernelspec": {
   "display_name": "Python 3",
   "language": "python",
   "name": "python3"
  },
  "language_info": {
   "codemirror_mode": {
    "name": "ipython",
    "version": 3
   },
   "file_extension": ".py",
   "mimetype": "text/x-python",
   "name": "python",
   "nbconvert_exporter": "python",
   "pygments_lexer": "ipython3",
   "version": "3.7.6"
  }
 },
 "nbformat": 4,
 "nbformat_minor": 4
}
