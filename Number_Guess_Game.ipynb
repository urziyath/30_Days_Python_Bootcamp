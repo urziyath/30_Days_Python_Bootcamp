{
 "cells": [
  {
   "cell_type": "code",
   "execution_count": 1,
   "metadata": {},
   "outputs": [
    {
     "name": "stdout",
     "output_type": "stream",
     "text": [
      "Enter any number between 0 and 10: 5\n",
      "Congrats Correct!You guessed in Attempt 1\n"
     ]
    }
   ],
   "source": [
    "from random import randint\n",
    "\n",
    "def comp_number(min,max):\n",
    "    \n",
    "    return randint(min,max)\n",
    "\n",
    "def user_guess(min,max):\n",
    "    user_input = int(input(f'Enter any number between {min} and {max}: '))\n",
    "    \n",
    "    return user_input\n",
    "\n",
    "def play():\n",
    "    low = 0\n",
    "    high = 10\n",
    "    \n",
    "    user_choice = user_guess(low,high)\n",
    "    comp_choice = comp_number(low,high)\n",
    "    \n",
    "    count = 1\n",
    "    \n",
    "    while user_choice != comp_choice:\n",
    "        if comp_choice< user_choice:\n",
    "            user_choice = int(input('Its too high! try again: '))\n",
    "            count += 1\n",
    "            \n",
    "        elif comp_choice>user_choice:\n",
    "            user_choice = int(input('Its too low! try again: '))\n",
    "            count += 1\n",
    "            \n",
    "    print(f'Congrats Correct!You guessed in Attempt {count}')\n",
    "    \n",
    "play()"
   ]
  },
  {
   "cell_type": "code",
   "execution_count": 2,
   "metadata": {},
   "outputs": [
    {
     "name": "stdout",
     "output_type": "stream",
     "text": [
      "Enter any number between 0 and 10: 5\n",
      "Its too low! try again: 8\n",
      "Its too low! try again: 9\n",
      "Congrats Correct!You guessed in Attempt 3\n"
     ]
    }
   ],
   "source": [
    "from random import randint\n",
    "\n",
    "def comp_number(min,max):\n",
    "    \n",
    "    return randint(min,max)\n",
    "\n",
    "def user_guess(min,max):\n",
    "    user_input = int(input(f'Enter any number between {min} and {max}: '))\n",
    "    \n",
    "    return user_input\n",
    "\n",
    "def play():\n",
    "    low = 0\n",
    "    high = 10\n",
    "    \n",
    "    user_choice = user_guess(low,high)\n",
    "    comp_choice = comp_number(low,high)\n",
    "    \n",
    "    count = 1\n",
    "    \n",
    "    while user_choice != comp_choice:\n",
    "        if comp_choice< user_choice:\n",
    "            user_choice = int(input('Its too high! try again: '))\n",
    "            count += 1\n",
    "            \n",
    "        elif comp_choice>user_choice:\n",
    "            user_choice = int(input('Its too low! try again: '))\n",
    "            count += 1\n",
    "            \n",
    "    print(f'Congrats Correct!You guessed in Attempt {count}')\n",
    "    \n",
    "play()"
   ]
  },
  {
   "cell_type": "code",
   "execution_count": null,
   "metadata": {},
   "outputs": [],
   "source": []
  }
 ],
 "metadata": {
  "kernelspec": {
   "display_name": "Python 3",
   "language": "python",
   "name": "python3"
  },
  "language_info": {
   "codemirror_mode": {
    "name": "ipython",
    "version": 3
   },
   "file_extension": ".py",
   "mimetype": "text/x-python",
   "name": "python",
   "nbconvert_exporter": "python",
   "pygments_lexer": "ipython3",
   "version": "3.7.6"
  }
 },
 "nbformat": 4,
 "nbformat_minor": 4
}
