{
 "cells": [
  {
   "cell_type": "markdown",
   "metadata": {},
   "source": [
    "## DAY 26 Enumerator "
   ]
  },
  {
   "cell_type": "markdown",
   "metadata": {},
   "source": [
    "#### Enumerate a python list and try to print the counter with the list value"
   ]
  },
  {
   "cell_type": "code",
   "execution_count": 15,
   "metadata": {},
   "outputs": [
    {
     "name": "stdout",
     "output_type": "stream",
     "text": [
      "[(1, 'Hameed'), (2, 'Ziyath'), (3, 'Rilwan'), (4, 'Ismath'), (5, 'Usama'), (6, 'Irfan')]\n"
     ]
    }
   ],
   "source": [
    "user_list = ['Hameed','Ziyath','Rilwan','Ismath','Usama','Irfan']\n",
    "print(list(enumerate(user_list,1)))"
   ]
  },
  {
   "cell_type": "markdown",
   "metadata": {},
   "source": [
    "#### Enumerate a python tuple and try to print the counter with the tuple value"
   ]
  },
  {
   "cell_type": "code",
   "execution_count": 17,
   "metadata": {},
   "outputs": [
    {
     "name": "stdout",
     "output_type": "stream",
     "text": [
      "((1, 'Data Scientist'), (2, 'Data Analyst'), (3, 'Data Engineer'), (4, 'Bussiness Analyst'), (5, 'Python Developer'))\n"
     ]
    }
   ],
   "source": [
    "job_tup = ('Data Scientist','Data Analyst','Data Engineer','Bussiness Analyst','Python Developer')\n",
    "\n",
    "print(tuple(enumerate(job_tupb_tup,1)))"
   ]
  },
  {
   "cell_type": "code",
   "execution_count": null,
   "metadata": {},
   "outputs": [],
   "source": []
  }
 ],
 "metadata": {
  "kernelspec": {
   "display_name": "Python 3",
   "language": "python",
   "name": "python3"
  },
  "language_info": {
   "codemirror_mode": {
    "name": "ipython",
    "version": 3
   },
   "file_extension": ".py",
   "mimetype": "text/x-python",
   "name": "python",
   "nbconvert_exporter": "python",
   "pygments_lexer": "ipython3",
   "version": "3.7.6"
  }
 },
 "nbformat": 4,
 "nbformat_minor": 4
}
