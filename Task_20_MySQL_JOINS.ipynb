{
 "cells": [
  {
   "cell_type": "markdown",
   "metadata": {},
   "source": [
    "## Day 20 –Python MySQL Join"
   ]
  },
  {
   "cell_type": "markdown",
   "metadata": {},
   "source": [
    "### Excercise"
   ]
  },
  {
   "cell_type": "markdown",
   "metadata": {},
   "source": [
    "#### 1) Create an Employee Table with employee name,employee ID & Salary"
   ]
  },
  {
   "cell_type": "code",
   "execution_count": 29,
   "metadata": {},
   "outputs": [],
   "source": [
    "import mysql.connector\n"
   ]
  },
  {
   "cell_type": "code",
   "execution_count": 30,
   "metadata": {},
   "outputs": [],
   "source": [
    "mydb = mysql.connector.connect(\n",
    "    host = 'localhost',\n",
    "    user = 'root',\n",
    "    passwd = 'password'\n",
    ")\n",
    "db = mydb.cursor()\n"
   ]
  },
  {
   "cell_type": "code",
   "execution_count": 7,
   "metadata": {},
   "outputs": [],
   "source": [
    "mydb = mysql.connector.connect(\n",
    "    host = 'localhost',\n",
    "    user = 'root',\n",
    "    passwd = 'password',\n",
    "    database = 'Employee'\n",
    ")\n",
    "db = mydb.cursor()\n",
    "db.execute('CREATE TABLE employee (emp_id INT PRIMARY KEY, emp_name VARCHAR(255), salary DOUBLE)')"
   ]
  },
  {
   "cell_type": "code",
   "execution_count": 9,
   "metadata": {},
   "outputs": [
    {
     "name": "stdout",
     "output_type": "stream",
     "text": [
      "10 item inserted\n"
     ]
    }
   ],
   "source": [
    "db = mydb.cursor()\n",
    "sql = 'INSERT INTO employee(emp_id,emp_name,salary)VALUES(%s,%s,%s)'\n",
    "value = [(101,'Hameed',20000),\n",
    "         (102,'Jawa',500000),(103,'Usama',50000),(104,'Raju',8000),(105,'Prakash',10000),\n",
    "         (106,'Tim',15000),(107,'Irfan',20000),(108,'Varunka',25000),(109,'Diya',12000),\n",
    "         (110,'Albin',30000)]\n",
    "db.executemany(sql,value)\n",
    "\n",
    "mydb.commit()\n",
    "\n",
    "print(db.rowcount, 'item inserted')"
   ]
  },
  {
   "cell_type": "code",
   "execution_count": 32,
   "metadata": {},
   "outputs": [
    {
     "name": "stdout",
     "output_type": "stream",
     "text": [
      "(101, 'Hameed', 20000.0)\n",
      "(102, 'Jawa', 500000.0)\n",
      "(103, 'Usama', 50000.0)\n",
      "(104, 'Raju', 8000.0)\n",
      "(105, 'Prakash', 10000.0)\n",
      "(106, 'Tim', 15000.0)\n",
      "(107, 'Irfan', 20000.0)\n",
      "(108, 'Varunka', 25000.0)\n",
      "(109, 'Diya', 12000.0)\n",
      "(110, 'Albin', 30000.0)\n"
     ]
    }
   ],
   "source": [
    "mydb = mysql.connector.connect(\n",
    "    host = 'localhost',\n",
    "    user = 'root',\n",
    "    passwd = 'password',\n",
    "    database = 'Employee'\n",
    ")\n",
    "db = mydb.cursor()\n",
    "\n",
    "db.execute(\"SELECT * FROM employee\")\n",
    "\n",
    "res = db.fetchall()\n",
    "\n",
    "for i in res:\n",
    "    print(i)"
   ]
  },
  {
   "cell_type": "markdown",
   "metadata": {},
   "source": [
    "#### a.\tWrite a query to get the maximum and minimum salary from employees table"
   ]
  },
  {
   "cell_type": "code",
   "execution_count": 34,
   "metadata": {},
   "outputs": [
    {
     "name": "stdout",
     "output_type": "stream",
     "text": [
      "Maximum Salary :  500000.0\n"
     ]
    }
   ],
   "source": [
    "#max salary\n",
    "\n",
    "db = mydb.cursor()\n",
    "\n",
    "db.execute('SELECT MAX(salary) FROM employee')\n",
    "\n",
    "res = db.fetchone()\n",
    "\n",
    "for i in res:\n",
    "    print('Maximum Salary : ',i)"
   ]
  },
  {
   "cell_type": "code",
   "execution_count": 35,
   "metadata": {},
   "outputs": [
    {
     "name": "stdout",
     "output_type": "stream",
     "text": [
      "Minimum Salary :  8000.0\n"
     ]
    }
   ],
   "source": [
    "#min salary\n",
    "\n",
    "db = mydb.cursor()\n",
    "\n",
    "db.execute('SELECT MIN(salary) FROM employee')\n",
    "\n",
    "res = db.fetchone()\n",
    "\n",
    "for i in res:\n",
    "    print('Minimum Salary : ',i)"
   ]
  },
  {
   "cell_type": "markdown",
   "metadata": {},
   "source": [
    "#### b.\tWrite a query to get the number of employees working with the company"
   ]
  },
  {
   "cell_type": "code",
   "execution_count": 36,
   "metadata": {},
   "outputs": [
    {
     "name": "stdout",
     "output_type": "stream",
     "text": [
      "Total Number Of Workers:  10\n"
     ]
    }
   ],
   "source": [
    "db = mydb.cursor()\n",
    "\n",
    "db.execute('SELECT COUNT(emp_id) FROM employee')\n",
    "\n",
    "res = db.fetchone()\n",
    "\n",
    "for i in res:\n",
    "    print('Total Number Of Workers: ',i)"
   ]
  },
  {
   "cell_type": "markdown",
   "metadata": {},
   "source": [
    "#### c.\tWrite a query to get the first 3 characters of first name from employees table"
   ]
  },
  {
   "cell_type": "code",
   "execution_count": 37,
   "metadata": {},
   "outputs": [
    {
     "name": "stdout",
     "output_type": "stream",
     "text": [
      "('Ham',)\n",
      "('Jaw',)\n",
      "('Usa',)\n",
      "('Raj',)\n",
      "('Pra',)\n",
      "('Tim',)\n",
      "('Irf',)\n",
      "('Var',)\n",
      "('Diy',)\n",
      "('Alb',)\n"
     ]
    }
   ],
   "source": [
    "db = mydb.cursor()\n",
    "\n",
    "db.execute('SELECT SUBSTRING(emp_name, 1, 3 ) FROM employee;')\n",
    "\n",
    "res = db.fetchall()\n",
    "\n",
    "for i in res:\n",
    "    print(i)"
   ]
  },
  {
   "cell_type": "code",
   "execution_count": null,
   "metadata": {},
   "outputs": [],
   "source": []
  }
 ],
 "metadata": {
  "kernelspec": {
   "display_name": "Python 3",
   "language": "python",
   "name": "python3"
  },
  "language_info": {
   "codemirror_mode": {
    "name": "ipython",
    "version": 3
   },
   "file_extension": ".py",
   "mimetype": "text/x-python",
   "name": "python",
   "nbconvert_exporter": "python",
   "pygments_lexer": "ipython3",
   "version": "3.7.6"
  }
 },
 "nbformat": 4,
 "nbformat_minor": 4
}
