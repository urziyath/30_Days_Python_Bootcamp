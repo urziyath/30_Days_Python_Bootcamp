{
 "cells": [
  {
   "cell_type": "markdown",
   "metadata": {},
   "source": [
    "####  Importing Tkinter Library"
   ]
  },
  {
   "cell_type": "code",
   "execution_count": 2,
   "metadata": {},
   "outputs": [],
   "source": [
    "from tkinter import*\n",
    "from tkinter import ttk\n",
    "import tkinter.messagebox\n",
    "\n"
   ]
  },
  {
   "cell_type": "code",
   "execution_count": 3,
   "metadata": {},
   "outputs": [],
   "source": [
    "#creating object\n",
    "\n",
    "root = Tk()\n",
    "\n",
    "#declaring window title\n",
    "root.title(\"Registration Form\")\n",
    "\n",
    "#declaring window size\n",
    "root.geometry('500x450')\n",
    "\n",
    "#declaring window background colour\n",
    "root.configure(background = \"light cyan\")\n",
    "color = 'light cyan'\n",
    "head_title = Label(root, text = \"Student Registration Form\",font = (\"bold\",15),bg = color ).grid(row = 0, column = 1,padx = 10,pady = 20)\n",
    "#empty = Label(root).grid(row = 1,column = 0)\n",
    "fname = Label(root, text = \"First Name\",bg = color).grid(row = 2,column = 0)\n",
    "lname = Label(root, text = \"Last Name\",bg = color).grid(row = 3,column = 0)\n",
    "mail_id = Label(root, text = \"Email Id\",bg = color).grid(row = 4,column = 0)\n",
    "gender = Label(root, text = \"Gender\",bg = color).grid(row = 5,column = 0)\n",
    "mob_num = Label(root, text = \"Mobile Number\",bg = color).grid(row = 7,column = 0)\n",
    "dob = Label(root, text = \"Date Of Birth\",bg = color).grid(row = 8,column = 0)\n",
    "address =Label(root, text = \"Address\",bg = color).grid(row = 9,column = 0)\n",
    "city = Label(root, text = \"City\",bg = color).grid(row = 10,column = 0)\n",
    "state = Label(root, text = \"State\",bg = color).grid(row = 11,column = 0)\n",
    "country = Label(root, text = \"Country\",bg = color).grid(row = 12,column = 0)\n",
    "\n",
    "var = IntVar()\n",
    "Radiobutton(root, text=\"Male\",pady = 1 ,variable=var, value=1,bg = color).grid(row = 5,column = 1)\n",
    "Radiobutton(root, text=\"Female\",pady = 1 ,variable=var, value=2,bg = color).grid(row = 6,column = 1)\n",
    "\n",
    "list1 = ['India','USA','Netherlands','England','Singapore','Saudi Arabia'];\n",
    "\n",
    "c=StringVar()\n",
    "droplist=OptionMenu(root,c, *list1)\n",
    "droplist.config(width=15,bg = color)\n",
    "c.set('select your country')\n",
    "droplist.grid(row = 12,column = 1)\n",
    "\n",
    "fname1 = Entry(root).grid(row = 2 ,column = 1)\n",
    "lname1 = Entry(root).grid(row = 3 ,column = 1)\n",
    "mail_id1 = Entry(root).grid(row = 4 ,column = 1)\n",
    "\n",
    "mob_num1 = Entry(root).grid(row = 7 ,column = 1)\n",
    "dob1 = Entry(root).grid(row = 8 ,column = 1)\n",
    "address1 = Entry(root).grid(row = 9,column = 1)\n",
    "city1 = Entry(root).grid(row = 10,column = 1)\n",
    "state1 = Entry(root).grid(row = 11 ,column = 1)\n",
    "\n",
    "def onClick():\n",
    "    tkinter.messagebox.showinfo(\"Submitted\",\"Your Details Submited!\")\n",
    "\n",
    "\n",
    "Button(root, text=\"Submit\", command=onClick, width=20,bg='Green',fg='Black').grid(row = 14,column = 1,padx = 20,pady = 20)\n",
    "\n",
    "\n",
    "root.mainloop()"
   ]
  },
  {
   "cell_type": "code",
   "execution_count": null,
   "metadata": {},
   "outputs": [],
   "source": []
  }
 ],
 "metadata": {
  "kernelspec": {
   "display_name": "Python 3",
   "language": "python",
   "name": "python3"
  }
 },
 "nbformat": 4,
 "nbformat_minor": 4
}
