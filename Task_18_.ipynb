{
 "cells": [
  {
   "cell_type": "markdown",
   "metadata": {},
   "source": [
    "## Day 18 – Python MySql (Insert into & select)"
   ]
  },
  {
   "cell_type": "markdown",
   "metadata": {},
   "source": [
    "#### 1.\tCreate a DB with doctor and doctor ID & patients visited"
   ]
  },
  {
   "cell_type": "code",
   "execution_count": 1,
   "metadata": {},
   "outputs": [],
   "source": [
    "import mysql.connector"
   ]
  },
  {
   "cell_type": "code",
   "execution_count": 2,
   "metadata": {},
   "outputs": [],
   "source": [
    "mydb = mysql.connector.connect(\n",
    "    host = 'localhost',\n",
    "    username = 'root',\n",
    "    password = 'password'\n",
    ")"
   ]
  },
  {
   "cell_type": "code",
   "execution_count": 5,
   "metadata": {},
   "outputs": [],
   "source": [
    "db = mydb.cursor()\n",
    "\n",
    "db.execute('CREATE DATABASE doctor')\n",
    "\n"
   ]
  },
  {
   "cell_type": "code",
   "execution_count": 6,
   "metadata": {},
   "outputs": [],
   "source": [
    "mydb = mysql.connector.connect(\n",
    "    host = 'localhost',\n",
    "    username = 'root',\n",
    "    password = 'password',\n",
    "    database = 'doctor'\n",
    ")\n",
    "\n",
    "db = mydb.cursor()\n",
    "db.execute('CREATE TABLE Doctor (doc_id VARCHAR(255),doc_name VARCHAR(255),patient_visited VARCHAR(255))')"
   ]
  },
  {
   "cell_type": "code",
   "execution_count": 7,
   "metadata": {},
   "outputs": [
    {
     "name": "stdout",
     "output_type": "stream",
     "text": [
      "('doctor',)\n"
     ]
    }
   ],
   "source": [
    "db = mydb.cursor()\n",
    "db.execute('SHOW TABLES')\n",
    "\n",
    "for i in db:\n",
    "    print(i)"
   ]
  },
  {
   "cell_type": "code",
   "execution_count": 9,
   "metadata": {},
   "outputs": [
    {
     "name": "stdout",
     "output_type": "stream",
     "text": [
      "9 item inserted.\n"
     ]
    }
   ],
   "source": [
    "db = mydb.cursor()\n",
    "\n",
    "sql = \"INSERT INTO Doctor (doc_id , doc_name , patient_visited) VALUES (%s,%s,%s)\"\n",
    "val = [\n",
    "  ('D18','Dr.Anas','6'),\n",
    "    ('D24','Dr.Shoaib','3'),\n",
    "    ('D8','Dr.Nargees Banu','8'),\n",
    "    ('D52','Dr.Latha','2'),\n",
    "    ('D23','Dr.Zachariah','15'),\n",
    "    ('D1','Dr.Rajeev Philip','20'),\n",
    "    ('D78','Dr.Subash','0'),\n",
    "    ('D65','Dr.Libu','0'),\n",
    "     ('D23','Dr.Varunka','0'),\n",
    "    \n",
    "]\n",
    "\n",
    "db.executemany(sql, val)\n",
    "\n",
    "mydb.commit()\n",
    "\n",
    "print(db.rowcount, \"item inserted.\")"
   ]
  },
  {
   "cell_type": "markdown",
   "metadata": {},
   "source": [
    "#### 2. Get the doctor(s) who have more than 5 patients visited"
   ]
  },
  {
   "cell_type": "code",
   "execution_count": 10,
   "metadata": {},
   "outputs": [
    {
     "name": "stdout",
     "output_type": "stream",
     "text": [
      "('D18', 'Dr.Anas', '6')\n",
      "('D8', 'Dr.Nargees Banu', '8')\n",
      "('D23', 'Dr.Zachariah', '15')\n",
      "('D1', 'Dr.Rajeev Philip', '20')\n"
     ]
    }
   ],
   "source": [
    "db = mydb.cursor()\n",
    "db.execute('SELECT * FROM Doctor WHERE patient_visited>5')\n",
    "\n",
    "res = db.fetchall()\n",
    "\n",
    "for i in res:\n",
    "    print(i)"
   ]
  },
  {
   "cell_type": "markdown",
   "metadata": {},
   "source": [
    "#### 3.\tGet the doctors with no patients visit"
   ]
  },
  {
   "cell_type": "code",
   "execution_count": 11,
   "metadata": {},
   "outputs": [
    {
     "name": "stdout",
     "output_type": "stream",
     "text": [
      "('D78', 'Dr.Subash', '0')\n",
      "('D65', 'Dr.Libu', '0')\n",
      "('D23', 'Dr.Varunka', '0')\n"
     ]
    }
   ],
   "source": [
    "db = mydb.cursor()\n",
    "\n",
    "db.execute('SELECT * FROM Doctor WHERE patient_visited = 0')\n",
    "\n",
    "res = db.fetchall()\n",
    "\n",
    "for i in res:\n",
    "    print(i)"
   ]
  },
  {
   "cell_type": "code",
   "execution_count": null,
   "metadata": {},
   "outputs": [],
   "source": []
  },
  {
   "cell_type": "code",
   "execution_count": 12,
   "metadata": {},
   "outputs": [
    {
     "name": "stdout",
     "output_type": "stream",
     "text": [
      "Thank You\n"
     ]
    }
   ],
   "source": [
    "print('Thank You')"
   ]
  },
  {
   "cell_type": "code",
   "execution_count": null,
   "metadata": {},
   "outputs": [],
   "source": []
  }
 ],
 "metadata": {
  "kernelspec": {
   "display_name": "Python 3",
   "language": "python",
   "name": "python3"
  },
  "language_info": {
   "codemirror_mode": {
    "name": "ipython",
    "version": 3
   },
   "file_extension": ".py",
   "mimetype": "text/x-python",
   "name": "python",
   "nbconvert_exporter": "python",
   "pygments_lexer": "ipython3",
   "version": "3.7.6"
  }
 },
 "nbformat": 4,
 "nbformat_minor": 4
}
