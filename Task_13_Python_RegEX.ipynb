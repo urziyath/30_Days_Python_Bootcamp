{
 "cells": [
  {
   "cell_type": "markdown",
   "metadata": {},
   "source": [
    "## RegEX"
   ]
  },
  {
   "cell_type": "markdown",
   "metadata": {},
   "source": [
    "#### Write a Python program for all the cases which can check a string contains only a certain set of characters (in this case a-z, A-Z and 0-9)."
   ]
  },
  {
   "cell_type": "code",
   "execution_count": 2,
   "metadata": {},
   "outputs": [],
   "source": [
    "import re"
   ]
  },
  {
   "cell_type": "code",
   "execution_count": 5,
   "metadata": {},
   "outputs": [
    {
     "name": "stdout",
     "output_type": "stream",
     "text": [
      "Enter Any Character: @#^%&*(^)\n",
      "False\n"
     ]
    }
   ],
   "source": [
    "user_input = input('Enter Any Character: ')\n",
    "char = re.compile(r'[^a-zA-Z0-9]')\n",
    "char1 = char.search(user_input)\n",
    "print(not bool(char1))"
   ]
  },
  {
   "cell_type": "code",
   "execution_count": 8,
   "metadata": {},
   "outputs": [
    {
     "name": "stdout",
     "output_type": "stream",
     "text": [
      "Enter Any Character: Hameed0804\n",
      "True\n"
     ]
    }
   ],
   "source": [
    "user_input = input('Enter Any Character: ')\n",
    "char = re.compile(r'[^a-zA-Z0-9]')\n",
    "char1 = char.search(user_input)\n",
    "print(not bool(char1))"
   ]
  },
  {
   "cell_type": "markdown",
   "metadata": {},
   "source": [
    "#### Write a Python program that matches a word containing 'ab"
   ]
  },
  {
   "cell_type": "code",
   "execution_count": 7,
   "metadata": {},
   "outputs": [
    {
     "name": "stdout",
     "output_type": "stream",
     "text": [
      "Enter any sentence: I am Hameed Ziyath\n",
      "Not Found!\n"
     ]
    }
   ],
   "source": [
    "user_input = input('Enter any sentence: ')\n",
    "pattern = '\\w*ab\\w*'\n",
    "\n",
    "if re.search(pattern,user_input):\n",
    "    print('Match Found!')\n",
    "print('Not Found!')"
   ]
  },
  {
   "cell_type": "code",
   "execution_count": 10,
   "metadata": {},
   "outputs": [
    {
     "name": "stdout",
     "output_type": "stream",
     "text": [
      "Enter any sentence: hababi\n",
      "Match Found!\n"
     ]
    }
   ],
   "source": [
    "user_input = input('Enter any sentence: ')\n",
    "pattern = '\\w*ab.\\w*'\n",
    "\n",
    "if re.search(pattern,user_input):\n",
    "    print('Match Found!')\n",
    "else:\n",
    "    print('Not Found!')"
   ]
  },
  {
   "cell_type": "markdown",
   "metadata": {},
   "source": [
    "#### Write a Python program to check for a number at the end of a word/sentence."
   ]
  },
  {
   "cell_type": "code",
   "execution_count": 11,
   "metadata": {},
   "outputs": [
    {
     "name": "stdout",
     "output_type": "stream",
     "text": [
      "Enter Any Sentence: Hameed\n",
      "False\n"
     ]
    }
   ],
   "source": [
    "user_input = input('Enter Any Sentence: ')\n",
    "pattern = re.compile(r\".*[0-9]$\")\n",
    "\n",
    "if pattern.match(user_input):\n",
    "    print('True')\n",
    "else:\n",
    "    print('False')"
   ]
  },
  {
   "cell_type": "code",
   "execution_count": 12,
   "metadata": {},
   "outputs": [
    {
     "name": "stdout",
     "output_type": "stream",
     "text": [
      "Enter Any Sentence: Hameed08\n",
      "True\n"
     ]
    }
   ],
   "source": [
    "user_input = input('Enter Any Sentence: ')\n",
    "pattern = re.compile(r\".*[0-9]$\")\n",
    "\n",
    "if pattern.match(user_input):\n",
    "    print('True')\n",
    "else:\n",
    "    print('False')"
   ]
  },
  {
   "cell_type": "markdown",
   "metadata": {},
   "source": [
    "#### Write a Python program to search the numbers (0-9) of length between 1 to 3 in a given string"
   ]
  },
  {
   "cell_type": "code",
   "execution_count": 18,
   "metadata": {},
   "outputs": [
    {
     "name": "stdout",
     "output_type": "stream",
     "text": [
      "20\n",
      "40\n",
      "50\n",
      "308\n"
     ]
    }
   ],
   "source": [
    "res = re.finditer(r\"([0-9]{1,3})\", \"20s,40s,50s age group peoples are there in room 308\")\n",
    "\n",
    "for i in res:\n",
    "    print(i.group(0))"
   ]
  },
  {
   "cell_type": "markdown",
   "metadata": {},
   "source": [
    "#### Write a Python program to match a string that contains only uppercase letters"
   ]
  },
  {
   "cell_type": "code",
   "execution_count": 31,
   "metadata": {},
   "outputs": [
    {
     "name": "stdout",
     "output_type": "stream",
     "text": [
      "Enter any sentence: SHe is gorgeous\n",
      "No Match Found!\n"
     ]
    }
   ],
   "source": [
    "user_input = input('Enter any sentence: ')\n",
    "pattern = '^[A-Z]*$'\n",
    "\n",
    "if re.search(pattern, user_input):\n",
    "    print('Match Found!')\n",
    "else:\n",
    "    print('No Match Found!')"
   ]
  },
  {
   "cell_type": "code",
   "execution_count": 33,
   "metadata": {},
   "outputs": [
    {
     "name": "stdout",
     "output_type": "stream",
     "text": [
      "Enter any sentence: GORGEOUS\n",
      "Match Found!\n"
     ]
    }
   ],
   "source": [
    "user_input = input('Enter any sentence: ')\n",
    "pattern = '^[A-Z]*$'\n",
    "\n",
    "if re.match(pattern, user_input):\n",
    "    print('Match Found!')\n",
    "else:\n",
    "    print('No Match Found!')\n",
    "    "
   ]
  },
  {
   "cell_type": "code",
   "execution_count": null,
   "metadata": {},
   "outputs": [],
   "source": []
  }
 ],
 "metadata": {
  "kernelspec": {
   "display_name": "Python 3",
   "language": "python",
   "name": "python3"
  }
 },
 "nbformat": 4,
 "nbformat_minor": 4
}
