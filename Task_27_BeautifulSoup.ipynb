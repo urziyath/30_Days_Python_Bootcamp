{
 "cells": [
  {
   "cell_type": "markdown",
   "metadata": {},
   "source": [
    "## Day 27 BeautifulSoup"
   ]
  },
  {
   "cell_type": "markdown",
   "metadata": {},
   "source": [
    "### 1.\tTake any webpage, Scrape the data and try to insert only the class data and save it in excel "
   ]
  },
  {
   "cell_type": "code",
   "execution_count": 21,
   "metadata": {},
   "outputs": [],
   "source": [
    "import requests as req\n",
    "from bs4 import BeautifulSoup\n",
    "import pandas as pd"
   ]
  },
  {
   "cell_type": "code",
   "execution_count": 3,
   "metadata": {},
   "outputs": [],
   "source": [
    "url = 'https://www.flipkart.com/search?q=Iphone&otracker=search&otracker1=search&marketplace=FLIPKART&as-show=on&as=off'\n",
    "get_url = req.get(url)\n",
    "soup = BeautifulSoup(get_url.content,'html.parser')"
   ]
  },
  {
   "cell_type": "code",
   "execution_count": 6,
   "metadata": {},
   "outputs": [],
   "source": [
    "#soup.prettify()"
   ]
  },
  {
   "cell_type": "code",
   "execution_count": 51,
   "metadata": {},
   "outputs": [
    {
     "name": "stdout",
     "output_type": "stream",
     "text": [
      "<div class=\"_4rR01T\">APPLE iPhone SE (Black, 64 GB)</div>\n"
     ]
    }
   ],
   "source": [
    "product_name = soup.find_all('div',class_ = '_4rR01T')\n",
    "print(product_name[0])"
   ]
  },
  {
   "cell_type": "code",
   "execution_count": 52,
   "metadata": {},
   "outputs": [
    {
     "name": "stdout",
     "output_type": "stream",
     "text": [
      "<div class=\"_30jeq3 _1_WHN1\">₹31,999</div>\n"
     ]
    }
   ],
   "source": [
    "price = soup.find_all('div',class_ = '_30jeq3 _1_WHN1')\n",
    "print(price[0])"
   ]
  },
  {
   "cell_type": "code",
   "execution_count": 53,
   "metadata": {},
   "outputs": [
    {
     "name": "stdout",
     "output_type": "stream",
     "text": [
      "4.5\n"
     ]
    }
   ],
   "source": [
    "ratings = soup.find_all('div',class_ = '_3LWZlK')\n",
    "print(ratings[0].text)"
   ]
  },
  {
   "cell_type": "code",
   "execution_count": 19,
   "metadata": {},
   "outputs": [
    {
     "data": {
      "text/plain": [
       "27"
      ]
     },
     "execution_count": 19,
     "metadata": {},
     "output_type": "execute_result"
    }
   ],
   "source": [
    "filename ='model.csv'\n",
    "f = open(filename, 'w', encoding=\"utf-8\")\n",
    "\n",
    "headers = \"Product_Name,Price,Ratings\\n\"\n",
    "f.write(headers)"
   ]
  },
  {
   "cell_type": "code",
   "execution_count": 54,
   "metadata": {},
   "outputs": [
    {
     "name": "stdout",
     "output_type": "stream",
     "text": [
      "['APPLE iPhone SE Black 64 GB', 'APPLE iPhone SE Black 128 GB', 'APPLE iPhone SE White 64 GB', 'Apple iPhone XR PRODUCTRED 64 GB Includes EarPods Power Adapter', 'APPLE iPhone SE Red 64 GB', 'APPLE iPhone 11 Black 64 GB', 'APPLE iPhone SE Red 128 GB', 'APPLE iPhone 12 Mini White 128 GB', 'APPLE iPhone 12 Red 64 GB', 'APPLE iPhone 12 Blue 64 GB', 'APPLE iPhone SE White 128 GB', 'APPLE iPhone 11 Pro Midnight Green 64 GB', 'APPLE iPhone 12 Pro Pacific Blue 256 GB', 'APPLE iPhone 12 White 128 GB', 'APPLE iPhone 11 Red 64 GB', 'APPLE iPhone 12 Mini Black 256 GB', 'APPLE iPhone 12 Black 64 GB', 'APPLE iPhone 12 Purple 64 GB', 'APPLE iPhone 12 Mini Black 128 GB', 'APPLE iPhone XR Black 64 GB', 'APPLE iPhone 12 Mini Blue 128 GB', 'APPLE iPhone 12 Mini Blue 64 GB', 'APPLE iPhone 12 Pro Graphite 128 GB', 'APPLE iPhone 12 Mini Black 64 GB']\n",
      "['31999', '36999', '31999', '41999', '31999', '51999', '36999', '72900', '77900', '77900', '36999', '74999', '125900', '82900', '51999', '82900', '77900', '79900', '72900', '41999', '72900', '67900', '115900', '67900']\n",
      "['4.5', '4.5', '4.5', '4.6', '4.5', '4.6', '4.5', '4.5', '4.6', '4.6', '4.5', '4.6', '4.6', '4.6', '4.6', '4.5', '4.6', '4.6', '4.5', '4.6', '4.5', '4.5', '4.6', '4.5', '4.6', '5', '1', '4.5', '5', '5', '4.6', '5', '5', '4.5', '5', '1', '4.6', '5', '5']\n"
     ]
    }
   ],
   "source": [
    "name = []\n",
    "prices = []\n",
    "rating = []\n",
    "\n",
    "for i in product_name:\n",
    "    name.append(i.text)\n",
    "for j in price:\n",
    "    prices.append(j.text)\n",
    "for k in ratings:\n",
    "    rating.append(k.text)\n",
    "\n",
    "name = list(map(lambda x:x.replace('(',''),name))\n",
    "name = list(map(lambda x:x.replace(')',''),name))\n",
    "name = list(map(lambda x:x.replace(',',''),name))\n",
    "prices = list(map(lambda x:x.replace('₹',''),prices))\n",
    "prices = list(map(lambda x:x.replace(',',''),prices))\n",
    "\n",
    "print(name)\n",
    "print(prices)\n",
    "print(rating)"
   ]
  },
  {
   "cell_type": "code",
   "execution_count": 57,
   "metadata": {},
   "outputs": [
    {
     "name": "stdout",
     "output_type": "stream",
     "text": [
      "[('APPLE iPhone SE Black 64 GB', '31999', '4.5'), ('APPLE iPhone SE Black 128 GB', '36999', '4.5'), ('APPLE iPhone SE White 64 GB', '31999', '4.5'), ('Apple iPhone XR PRODUCTRED 64 GB Includes EarPods Power Adapter', '41999', '4.6'), ('APPLE iPhone SE Red 64 GB', '31999', '4.5'), ('APPLE iPhone 11 Black 64 GB', '51999', '4.6'), ('APPLE iPhone SE Red 128 GB', '36999', '4.5'), ('APPLE iPhone 12 Mini White 128 GB', '72900', '4.5'), ('APPLE iPhone 12 Red 64 GB', '77900', '4.6'), ('APPLE iPhone 12 Blue 64 GB', '77900', '4.6'), ('APPLE iPhone SE White 128 GB', '36999', '4.5'), ('APPLE iPhone 11 Pro Midnight Green 64 GB', '74999', '4.6'), ('APPLE iPhone 12 Pro Pacific Blue 256 GB', '125900', '4.6'), ('APPLE iPhone 12 White 128 GB', '82900', '4.6'), ('APPLE iPhone 11 Red 64 GB', '51999', '4.6'), ('APPLE iPhone 12 Mini Black 256 GB', '82900', '4.5'), ('APPLE iPhone 12 Black 64 GB', '77900', '4.6'), ('APPLE iPhone 12 Purple 64 GB', '79900', '4.6'), ('APPLE iPhone 12 Mini Black 128 GB', '72900', '4.5'), ('APPLE iPhone XR Black 64 GB', '41999', '4.6'), ('APPLE iPhone 12 Mini Blue 128 GB', '72900', '4.5'), ('APPLE iPhone 12 Mini Blue 64 GB', '67900', '4.5'), ('APPLE iPhone 12 Pro Graphite 128 GB', '115900', '4.6'), ('APPLE iPhone 12 Mini Black 64 GB', '67900', '4.5')]\n"
     ]
    }
   ],
   "source": [
    "data = list(zip(name,prices,rating))\n",
    "print(data)"
   ]
  },
  {
   "cell_type": "code",
   "execution_count": 58,
   "metadata": {},
   "outputs": [],
   "source": [
    "df = pd.DataFrame(data, columns = ['Product Name','Price','Ratings'])\n",
    "df.to_csv('model_data.csv',index = False, encoding = 'utf-8')"
   ]
  },
  {
   "cell_type": "code",
   "execution_count": 59,
   "metadata": {},
   "outputs": [
    {
     "data": {
      "text/html": [
       "<div>\n",
       "<style scoped>\n",
       "    .dataframe tbody tr th:only-of-type {\n",
       "        vertical-align: middle;\n",
       "    }\n",
       "\n",
       "    .dataframe tbody tr th {\n",
       "        vertical-align: top;\n",
       "    }\n",
       "\n",
       "    .dataframe thead th {\n",
       "        text-align: right;\n",
       "    }\n",
       "</style>\n",
       "<table border=\"1\" class=\"dataframe\">\n",
       "  <thead>\n",
       "    <tr style=\"text-align: right;\">\n",
       "      <th></th>\n",
       "      <th>Product Name</th>\n",
       "      <th>Price</th>\n",
       "      <th>Ratings</th>\n",
       "    </tr>\n",
       "  </thead>\n",
       "  <tbody>\n",
       "    <tr>\n",
       "      <th>0</th>\n",
       "      <td>APPLE iPhone SE Black 64 GB</td>\n",
       "      <td>31999</td>\n",
       "      <td>4.5</td>\n",
       "    </tr>\n",
       "    <tr>\n",
       "      <th>1</th>\n",
       "      <td>APPLE iPhone SE Black 128 GB</td>\n",
       "      <td>36999</td>\n",
       "      <td>4.5</td>\n",
       "    </tr>\n",
       "    <tr>\n",
       "      <th>2</th>\n",
       "      <td>APPLE iPhone SE White 64 GB</td>\n",
       "      <td>31999</td>\n",
       "      <td>4.5</td>\n",
       "    </tr>\n",
       "    <tr>\n",
       "      <th>3</th>\n",
       "      <td>Apple iPhone XR PRODUCTRED 64 GB Includes EarP...</td>\n",
       "      <td>41999</td>\n",
       "      <td>4.6</td>\n",
       "    </tr>\n",
       "    <tr>\n",
       "      <th>4</th>\n",
       "      <td>APPLE iPhone SE Red 64 GB</td>\n",
       "      <td>31999</td>\n",
       "      <td>4.5</td>\n",
       "    </tr>\n",
       "    <tr>\n",
       "      <th>5</th>\n",
       "      <td>APPLE iPhone 11 Black 64 GB</td>\n",
       "      <td>51999</td>\n",
       "      <td>4.6</td>\n",
       "    </tr>\n",
       "    <tr>\n",
       "      <th>6</th>\n",
       "      <td>APPLE iPhone SE Red 128 GB</td>\n",
       "      <td>36999</td>\n",
       "      <td>4.5</td>\n",
       "    </tr>\n",
       "    <tr>\n",
       "      <th>7</th>\n",
       "      <td>APPLE iPhone 12 Mini White 128 GB</td>\n",
       "      <td>72900</td>\n",
       "      <td>4.5</td>\n",
       "    </tr>\n",
       "    <tr>\n",
       "      <th>8</th>\n",
       "      <td>APPLE iPhone 12 Red 64 GB</td>\n",
       "      <td>77900</td>\n",
       "      <td>4.6</td>\n",
       "    </tr>\n",
       "    <tr>\n",
       "      <th>9</th>\n",
       "      <td>APPLE iPhone 12 Blue 64 GB</td>\n",
       "      <td>77900</td>\n",
       "      <td>4.6</td>\n",
       "    </tr>\n",
       "    <tr>\n",
       "      <th>10</th>\n",
       "      <td>APPLE iPhone SE White 128 GB</td>\n",
       "      <td>36999</td>\n",
       "      <td>4.5</td>\n",
       "    </tr>\n",
       "    <tr>\n",
       "      <th>11</th>\n",
       "      <td>APPLE iPhone 11 Pro Midnight Green 64 GB</td>\n",
       "      <td>74999</td>\n",
       "      <td>4.6</td>\n",
       "    </tr>\n",
       "    <tr>\n",
       "      <th>12</th>\n",
       "      <td>APPLE iPhone 12 Pro Pacific Blue 256 GB</td>\n",
       "      <td>125900</td>\n",
       "      <td>4.6</td>\n",
       "    </tr>\n",
       "    <tr>\n",
       "      <th>13</th>\n",
       "      <td>APPLE iPhone 12 White 128 GB</td>\n",
       "      <td>82900</td>\n",
       "      <td>4.6</td>\n",
       "    </tr>\n",
       "    <tr>\n",
       "      <th>14</th>\n",
       "      <td>APPLE iPhone 11 Red 64 GB</td>\n",
       "      <td>51999</td>\n",
       "      <td>4.6</td>\n",
       "    </tr>\n",
       "    <tr>\n",
       "      <th>15</th>\n",
       "      <td>APPLE iPhone 12 Mini Black 256 GB</td>\n",
       "      <td>82900</td>\n",
       "      <td>4.5</td>\n",
       "    </tr>\n",
       "    <tr>\n",
       "      <th>16</th>\n",
       "      <td>APPLE iPhone 12 Black 64 GB</td>\n",
       "      <td>77900</td>\n",
       "      <td>4.6</td>\n",
       "    </tr>\n",
       "    <tr>\n",
       "      <th>17</th>\n",
       "      <td>APPLE iPhone 12 Purple 64 GB</td>\n",
       "      <td>79900</td>\n",
       "      <td>4.6</td>\n",
       "    </tr>\n",
       "    <tr>\n",
       "      <th>18</th>\n",
       "      <td>APPLE iPhone 12 Mini Black 128 GB</td>\n",
       "      <td>72900</td>\n",
       "      <td>4.5</td>\n",
       "    </tr>\n",
       "    <tr>\n",
       "      <th>19</th>\n",
       "      <td>APPLE iPhone XR Black 64 GB</td>\n",
       "      <td>41999</td>\n",
       "      <td>4.6</td>\n",
       "    </tr>\n",
       "    <tr>\n",
       "      <th>20</th>\n",
       "      <td>APPLE iPhone 12 Mini Blue 128 GB</td>\n",
       "      <td>72900</td>\n",
       "      <td>4.5</td>\n",
       "    </tr>\n",
       "    <tr>\n",
       "      <th>21</th>\n",
       "      <td>APPLE iPhone 12 Mini Blue 64 GB</td>\n",
       "      <td>67900</td>\n",
       "      <td>4.5</td>\n",
       "    </tr>\n",
       "    <tr>\n",
       "      <th>22</th>\n",
       "      <td>APPLE iPhone 12 Pro Graphite 128 GB</td>\n",
       "      <td>115900</td>\n",
       "      <td>4.6</td>\n",
       "    </tr>\n",
       "    <tr>\n",
       "      <th>23</th>\n",
       "      <td>APPLE iPhone 12 Mini Black 64 GB</td>\n",
       "      <td>67900</td>\n",
       "      <td>4.5</td>\n",
       "    </tr>\n",
       "  </tbody>\n",
       "</table>\n",
       "</div>"
      ],
      "text/plain": [
       "                                         Product Name   Price  Ratings\n",
       "0                         APPLE iPhone SE Black 64 GB   31999      4.5\n",
       "1                        APPLE iPhone SE Black 128 GB   36999      4.5\n",
       "2                         APPLE iPhone SE White 64 GB   31999      4.5\n",
       "3   Apple iPhone XR PRODUCTRED 64 GB Includes EarP...   41999      4.6\n",
       "4                           APPLE iPhone SE Red 64 GB   31999      4.5\n",
       "5                         APPLE iPhone 11 Black 64 GB   51999      4.6\n",
       "6                          APPLE iPhone SE Red 128 GB   36999      4.5\n",
       "7                   APPLE iPhone 12 Mini White 128 GB   72900      4.5\n",
       "8                           APPLE iPhone 12 Red 64 GB   77900      4.6\n",
       "9                          APPLE iPhone 12 Blue 64 GB   77900      4.6\n",
       "10                       APPLE iPhone SE White 128 GB   36999      4.5\n",
       "11           APPLE iPhone 11 Pro Midnight Green 64 GB   74999      4.6\n",
       "12            APPLE iPhone 12 Pro Pacific Blue 256 GB  125900      4.6\n",
       "13                       APPLE iPhone 12 White 128 GB   82900      4.6\n",
       "14                          APPLE iPhone 11 Red 64 GB   51999      4.6\n",
       "15                  APPLE iPhone 12 Mini Black 256 GB   82900      4.5\n",
       "16                        APPLE iPhone 12 Black 64 GB   77900      4.6\n",
       "17                       APPLE iPhone 12 Purple 64 GB   79900      4.6\n",
       "18                  APPLE iPhone 12 Mini Black 128 GB   72900      4.5\n",
       "19                        APPLE iPhone XR Black 64 GB   41999      4.6\n",
       "20                   APPLE iPhone 12 Mini Blue 128 GB   72900      4.5\n",
       "21                    APPLE iPhone 12 Mini Blue 64 GB   67900      4.5\n",
       "22                APPLE iPhone 12 Pro Graphite 128 GB  115900      4.6\n",
       "23                   APPLE iPhone 12 Mini Black 64 GB   67900      4.5"
      ]
     },
     "execution_count": 59,
     "metadata": {},
     "output_type": "execute_result"
    }
   ],
   "source": [
    "df  = pd.read_csv('model_data.csv')\n",
    "df"
   ]
  },
  {
   "cell_type": "code",
   "execution_count": null,
   "metadata": {},
   "outputs": [],
   "source": []
  }
 ],
 "metadata": {
  "kernelspec": {
   "display_name": "Python 3",
   "language": "python",
   "name": "python3"
  },
  "language_info": {
   "codemirror_mode": {
    "name": "ipython",
    "version": 3
   },
   "file_extension": ".py",
   "mimetype": "text/x-python",
   "name": "python",
   "nbconvert_exporter": "python",
   "pygments_lexer": "ipython3",
   "version": "3.7.6"
  }
 },
 "nbformat": 4,
 "nbformat_minor": 4
}
