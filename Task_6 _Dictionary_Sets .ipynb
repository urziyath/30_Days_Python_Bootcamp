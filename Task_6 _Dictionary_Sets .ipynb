{
 "cells": [
  {
   "cell_type": "markdown",
   "metadata": {},
   "source": [
    "#### 1) Write a Python script to merge two Python dictionaries "
   ]
  },
  {
   "cell_type": "code",
   "execution_count": 1,
   "metadata": {},
   "outputs": [
    {
     "name": "stdout",
     "output_type": "stream",
     "text": [
      "{'Ziyath': 80, 'Irfan': 85, 'Usama': 90, 'Ismath': 89}\n",
      "{'Rilwan': 89, 'Bibin': 85, 'Govind': 82}\n"
     ]
    }
   ],
   "source": [
    "student_A = {\"Ziyath\" : 80,\"Irfan\":85,\"Usama\" : 90,\"Ismath\": 89}\n",
    "\n",
    "student_B = {\"Rilwan\" : 89,\"Bibin\" : 85,\"Govind\" : 82 }\n",
    "\n",
    "print(student_A)\n",
    "\n",
    "print(student_B)"
   ]
  },
  {
   "cell_type": "code",
   "execution_count": 4,
   "metadata": {},
   "outputs": [
    {
     "name": "stdout",
     "output_type": "stream",
     "text": [
      "{'Ziyath': 80, 'Irfan': 85, 'Usama': 90, 'Ismath': 89, 'Rilwan': 89, 'Bibin': 85, 'Govind': 82}\n"
     ]
    }
   ],
   "source": [
    "#merging two dictionaries\n",
    "\n",
    "student_A.update(student_B)\n",
    "\n",
    "print(student_A)"
   ]
  },
  {
   "cell_type": "code",
   "execution_count": 7,
   "metadata": {},
   "outputs": [
    {
     "name": "stdout",
     "output_type": "stream",
     "text": [
      "Marklist: {'Ziyath': 80, 'Irfan': 85, 'Usama': 90, 'Ismath': 89, 'Rilwan': 89, 'Bibin': 85, 'Govind': 82}\n"
     ]
    }
   ],
   "source": [
    "marklist = {}\n",
    "marklist.update(student_A)\n",
    "\n",
    "print(\"Marklist:\",marklist)"
   ]
  },
  {
   "cell_type": "markdown",
   "metadata": {},
   "source": [
    "#### 2) Write a Python program to remove a key from a dictionary "
   ]
  },
  {
   "cell_type": "code",
   "execution_count": 8,
   "metadata": {},
   "outputs": [
    {
     "name": "stdout",
     "output_type": "stream",
     "text": [
      "{'Maths': 89, 'Physics': 70, 'Chemistry': 78, 'English': 90, 'Computer Science': 92}\n"
     ]
    }
   ],
   "source": [
    "marks = {\"Maths\": 89, \"Physics\" : 70,\"Chemistry\" : 78,\"English\" : 90,\"Computer Science\" : 92}\n",
    "print(marks)"
   ]
  },
  {
   "cell_type": "code",
   "execution_count": 9,
   "metadata": {},
   "outputs": [
    {
     "name": "stdout",
     "output_type": "stream",
     "text": [
      "{'Maths': 89, 'Physics': 70, 'Chemistry': 78, 'Computer Science': 92}\n"
     ]
    }
   ],
   "source": [
    "marks.pop(\"English\")\n",
    "\n",
    "print(marks)"
   ]
  },
  {
   "cell_type": "markdown",
   "metadata": {},
   "source": [
    "#### 3) Write a Python program to map two lists into a dictionary "
   ]
  },
  {
   "cell_type": "code",
   "execution_count": 2,
   "metadata": {},
   "outputs": [
    {
     "name": "stdout",
     "output_type": "stream",
     "text": [
      "['Ziyath', 'Irfan', 'Ismath', 'Usamsa']\n",
      "[85, 78, 83, 90]\n"
     ]
    }
   ],
   "source": [
    "list1 = ['Ziyath','Irfan','Ismath','Usamsa']\n",
    "list2 = [85,78,83,90]\n",
    "\n",
    "print(list1)\n",
    "print(list2)"
   ]
  },
  {
   "cell_type": "code",
   "execution_count": 4,
   "metadata": {},
   "outputs": [
    {
     "name": "stdout",
     "output_type": "stream",
     "text": [
      "{'Ziyath': 85, 'Irfan': 78, 'Ismath': 83, 'Usamsa': 90}\n"
     ]
    }
   ],
   "source": [
    "marks = {}\n",
    "\n",
    "for i in list1:\n",
    "    for j in list2:\n",
    "        marks[i] = j\n",
    "        list2.remove(j)\n",
    "        break\n",
    "\n",
    "print(marks)"
   ]
  },
  {
   "cell_type": "code",
   "execution_count": 6,
   "metadata": {},
   "outputs": [
    {
     "name": "stdout",
     "output_type": "stream",
     "text": [
      "{'Ziyath': 85, 'Irfan': 78, 'Ismath': 83, 'Usamsa': 90}\n"
     ]
    }
   ],
   "source": [
    "#another method for map two list in dict\n",
    "#by using zip()\n",
    "\n",
    "list1 = ['Ziyath','Irfan','Ismath','Usamsa']\n",
    "list2 = [85,78,83,90]\n",
    "\n",
    "marks = dict(zip(list1,list2))\n",
    "\n",
    "print(marks)"
   ]
  },
  {
   "cell_type": "markdown",
   "metadata": {},
   "source": [
    "#### 4) Write a Python program to find the length of a set "
   ]
  },
  {
   "cell_type": "code",
   "execution_count": 7,
   "metadata": {},
   "outputs": [
    {
     "name": "stdout",
     "output_type": "stream",
     "text": [
      "{'Ismath', 'Usama', 'Hameed', 'Fareeza', 'Bibin', 'Govind', 'Jawahir', 'Irfan'}\n"
     ]
    }
   ],
   "source": [
    "names = {'Hameed','Usama','Jawahir','Fareeza','Irfan','Bibin','Govind','Ismath'}\n",
    "print(names)"
   ]
  },
  {
   "cell_type": "code",
   "execution_count": 8,
   "metadata": {},
   "outputs": [
    {
     "name": "stdout",
     "output_type": "stream",
     "text": [
      "8\n"
     ]
    }
   ],
   "source": [
    "#length of set\n",
    "\n",
    "print(len(names))"
   ]
  },
  {
   "cell_type": "markdown",
   "metadata": {},
   "source": [
    "#### 5) Write a Python program to remove the intersection of a 2nd set from the 1st set "
   ]
  },
  {
   "cell_type": "code",
   "execution_count": 9,
   "metadata": {},
   "outputs": [
    {
     "name": "stdout",
     "output_type": "stream",
     "text": [
      "{1, 2, 3, 4, 5}\n",
      "{4, 5, 6, 7, 8}\n"
     ]
    }
   ],
   "source": [
    "num1 = {1,2,3,4,5}\n",
    "num2 = {4,5,6,7,8}\n",
    "\n",
    "print(num1)\n",
    "print(num2)"
   ]
  },
  {
   "cell_type": "code",
   "execution_count": 10,
   "metadata": {},
   "outputs": [
    {
     "name": "stdout",
     "output_type": "stream",
     "text": [
      "{1, 2, 3}\n",
      "{4, 5, 6, 7, 8}\n"
     ]
    }
   ],
   "source": [
    "#remove the intersection of 2nd set from 1st set\n",
    "\n",
    "num1.difference_update(num2)\n",
    "\n",
    "print(num1)\n",
    "print(num2)"
   ]
  },
  {
   "cell_type": "code",
   "execution_count": 11,
   "metadata": {},
   "outputs": [
    {
     "name": "stdout",
     "output_type": "stream",
     "text": [
      "Thank You\n"
     ]
    }
   ],
   "source": [
    "print('Thank You')"
   ]
  }
 ],
 "metadata": {
  "kernelspec": {
   "display_name": "Python 3",
   "language": "python",
   "name": "python3"
  }
 },
 "nbformat": 4,
 "nbformat_minor": 4
}
