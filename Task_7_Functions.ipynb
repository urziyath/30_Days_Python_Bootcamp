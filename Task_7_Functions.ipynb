{
 "cells": [
  {
   "cell_type": "markdown",
   "metadata": {},
   "source": [
    "## Day 7 - Functions"
   ]
  },
  {
   "cell_type": "markdown",
   "metadata": {},
   "source": [
    "#### 1.\tCreate a function getting two integer inputs from user.& print the following:\n",
    "\n",
    "Addition of two numbers is +value\n",
    "\n",
    "Subtraction of two numbers is +value\n",
    "\n",
    "Division of two numbers is +value\n",
    "\n",
    "Multiplication of two numbers is +value\n"
   ]
  },
  {
   "cell_type": "code",
   "execution_count": 1,
   "metadata": {},
   "outputs": [],
   "source": [
    "def calc(num1,num2,value):\n",
    "    if value == 'add' or value == '+':\n",
    "        return num1 + num2\n",
    "    elif value == \"sub\" or value == '-':\n",
    "        return num1 - num2\n",
    "    elif value == \"mul\" or value == '*':\n",
    "        return num1 * num2\n",
    "    elif value == \"div\" or value == '/':\n",
    "        return num1 / num2\n",
    "    else:\n",
    "        print(\"invalid\")\n",
    "        \n"
   ]
  },
  {
   "cell_type": "code",
   "execution_count": 3,
   "metadata": {},
   "outputs": [
    {
     "name": "stdout",
     "output_type": "stream",
     "text": [
      "Enter 1st number: 25\n",
      "Enter 2nd number:5\n",
      "What Operation Do you want to perform:[+,-,/,*] : +\n"
     ]
    },
    {
     "data": {
      "text/plain": [
       "30"
      ]
     },
     "execution_count": 3,
     "metadata": {},
     "output_type": "execute_result"
    }
   ],
   "source": [
    "a = int(input(\"Enter 1st number: \"))\n",
    "b = int(input('Enter 2nd number:'))\n",
    "c = input(\"What Operation Do you want to perform:[+,-,/,*] : \")\n",
    "\n",
    "calc(a,b,c)"
   ]
  },
  {
   "cell_type": "code",
   "execution_count": 5,
   "metadata": {},
   "outputs": [
    {
     "name": "stdout",
     "output_type": "stream",
     "text": [
      "Enter 1st number: 45\n",
      "Enter 2nd number:15\n",
      "What Operation Do you want to perform:[+,-,/,*] : *\n"
     ]
    },
    {
     "data": {
      "text/plain": [
       "675"
      ]
     },
     "execution_count": 5,
     "metadata": {},
     "output_type": "execute_result"
    }
   ],
   "source": [
    "a = int(input(\"Enter 1st number: \"))\n",
    "b = int(input('Enter 2nd number:'))\n",
    "c = input(\"What Operation Do you want to perform:[+,-,/,*] : \")\n",
    "\n",
    "calc(a,b,c)"
   ]
  },
  {
   "cell_type": "code",
   "execution_count": 7,
   "metadata": {},
   "outputs": [
    {
     "name": "stdout",
     "output_type": "stream",
     "text": [
      "Enter 1st number: 58\n",
      "Enter 2nd number:52\n",
      "What Operation Do you want to perform:[+,-,/,*] : -\n"
     ]
    },
    {
     "data": {
      "text/plain": [
       "6"
      ]
     },
     "execution_count": 7,
     "metadata": {},
     "output_type": "execute_result"
    }
   ],
   "source": [
    "a = int(input(\"Enter 1st number: \"))\n",
    "b = int(input('Enter 2nd number:'))\n",
    "c = input(\"What Operation Do you want to perform:[+,-,/,*] : \")\n",
    "\n",
    "calc(a,b,c)"
   ]
  },
  {
   "cell_type": "code",
   "execution_count": 8,
   "metadata": {},
   "outputs": [
    {
     "name": "stdout",
     "output_type": "stream",
     "text": [
      "Enter 1st number: 85\n",
      "Enter 2nd number:15\n",
      "What Operation Do you want to perform:[+,-,/,*] : /\n"
     ]
    },
    {
     "data": {
      "text/plain": [
       "5.666666666666667"
      ]
     },
     "execution_count": 8,
     "metadata": {},
     "output_type": "execute_result"
    }
   ],
   "source": [
    "a = int(input(\"Enter 1st number: \"))\n",
    "b = int(input('Enter 2nd number:'))\n",
    "c = input(\"What Operation Do you want to perform:[+,-,/,*] : \")\n",
    "\n",
    "calc(a,b,c)"
   ]
  },
  {
   "cell_type": "markdown",
   "metadata": {},
   "source": [
    "#### 2.Create a function covid( )& it should accept patient name, and body temperature, by default the body temperature should be 98 degree"
   ]
  },
  {
   "cell_type": "code",
   "execution_count": 17,
   "metadata": {},
   "outputs": [],
   "source": [
    "def covid(name,temp):\n",
    "    print(f\"Name of patient is {name}\")\n",
    "    if temp == '':\n",
    "        print(\"Body Temperature is 98\")\n",
    "    else:\n",
    "        print(f'Body Temperature is {temp}')\n",
    "    \n",
    "    \n"
   ]
  },
  {
   "cell_type": "code",
   "execution_count": 18,
   "metadata": {},
   "outputs": [
    {
     "name": "stdout",
     "output_type": "stream",
     "text": [
      "Name Of Patient:Ranjith\n",
      "Enter your body temperature:\n",
      "Name of patient is Ranjith\n",
      "Body Temperature is 98\n"
     ]
    }
   ],
   "source": [
    "name_patient = input(\"Name Of Patient:\")\n",
    "body_temp = input(\"Enter your body temperature:\")\n",
    "\n",
    "covid(name_patient,body_temp)"
   ]
  },
  {
   "cell_type": "code",
   "execution_count": 19,
   "metadata": {},
   "outputs": [
    {
     "name": "stdout",
     "output_type": "stream",
     "text": [
      "Name Of Patient:Soni\n",
      "Enter your body temperature:97.2\n",
      "Name of patient is Soni\n",
      "Body Temperature is 97.2\n"
     ]
    }
   ],
   "source": [
    "name_patient = input(\"Name Of Patient:\")\n",
    "body_temp = input(\"Enter your body temperature:\")\n",
    "\n",
    "covid(name_patient,body_temp)"
   ]
  },
  {
   "cell_type": "code",
   "execution_count": 20,
   "metadata": {},
   "outputs": [
    {
     "name": "stdout",
     "output_type": "stream",
     "text": [
      "Thank You\n"
     ]
    }
   ],
   "source": [
    "print('Thank You')"
   ]
  },
  {
   "cell_type": "code",
   "execution_count": null,
   "metadata": {},
   "outputs": [],
   "source": []
  }
 ],
 "metadata": {
  "kernelspec": {
   "display_name": "Python 3",
   "language": "python",
   "name": "python3"
  },
  "language_info": {
   "codemirror_mode": {
    "name": "ipython",
    "version": 3
   },
   "file_extension": ".py",
   "mimetype": "text/x-python",
   "name": "python",
   "nbconvert_exporter": "python",
   "pygments_lexer": "ipython3",
   "version": "3.7.6"
  }
 },
 "nbformat": 4,
 "nbformat_minor": 4
}
