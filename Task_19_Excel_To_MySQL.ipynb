{
 "cells": [
  {
   "cell_type": "markdown",
   "metadata": {},
   "source": [
    "## DAY 19 Filter (Where Clause) & Sort"
   ]
  },
  {
   "cell_type": "markdown",
   "metadata": {},
   "source": [
    "#### 1.\tCreate an Excel with data of Student database and add all the values which is required for student management database, Read the excel file and add the datas into a DB (using script)"
   ]
  },
  {
   "cell_type": "code",
   "execution_count": 1,
   "metadata": {},
   "outputs": [],
   "source": [
    "import xlrd\n",
    "import mysql.connector"
   ]
  },
  {
   "cell_type": "code",
   "execution_count": 3,
   "metadata": {},
   "outputs": [
    {
     "name": "stdout",
     "output_type": "stream",
     "text": [
      "[(101.0, 'Hameed', 22.0, 'ECE', 'IV', 8137921241.0, 0.0, 7.5), (102.0, 'Subash', 22.0, 'ECE', 'IV', 9497425221.0, 0.0, 8.5), (151.0, 'Irfan', 22.0, 'MECH', 'IV', 9194965500.0, 1.0, 7.0), (106.0, 'Shafiq', 21.0, 'ECE', 'IV', 8780040090.0, 0.0, 7.2), (159.0, 'Usama', 23.0, 'MECH', 'IV', 8121000045.0, 5.0, 6.5), (201.0, 'Sajid', 22.0, 'CSE', 'IV', 8137220090.0, 2.0, 7.3), (159.0, 'Ismath', 21.0, 'CIVIL', 'IV', 7523600120.0, 0.0, 8.8), (159.0, 'Arun', 21.0, 'CIVIL', 'IV', 7828229631.0, 1.0, 7.6), (159.0, 'Nihaath', 22.0, 'EEE', 'IV', 8199002000.0, 0.0, 9.0)]\n"
     ]
    }
   ],
   "source": [
    "book = xlrd.open_workbook('Student_Database.xlsx')\n",
    "sheet =book.sheet_by_index(0)\n",
    "sheet.cell_value(0,0)\n",
    "\n",
    "data = []\n",
    "\n",
    "for i in range(1,10):\n",
    "    data.append(tuple(sheet.row_values(i)))\n",
    "\n",
    "print(data)\n"
   ]
  },
  {
   "cell_type": "code",
   "execution_count": 9,
   "metadata": {},
   "outputs": [],
   "source": [
    "mydb = mysql.connector.connect(\n",
    "    host = 'localhost',\n",
    "    user = 'root',\n",
    "    passwd = 'password'\n",
    ")\n",
    "\n",
    "db = mydb.cursor()\n",
    "\n",
    "db.execute('CREATE DATABASE student_data1')\n",
    "\n"
   ]
  },
  {
   "cell_type": "code",
   "execution_count": 15,
   "metadata": {},
   "outputs": [],
   "source": [
    "mydb = mysql.connector.connect(\n",
    "    host = 'localhost',\n",
    "    user = 'root',\n",
    "    passwd = 'password',\n",
    "    database = 'student_data1'\n",
    ")\n",
    "\n",
    "db = mydb.cursor()\n",
    "\n",
    "db.execute('CREATE TABLE student1 (student_ID INT(10), name VARCHAR(50), Age INT(10), Branch VARCHAR(50), Year VARCHAR(50), Contact_Number VARCHAR(50), Backlogs INT(10),GPA FLOAT(10))')\n",
    "\n"
   ]
  },
  {
   "cell_type": "code",
   "execution_count": 9,
   "metadata": {},
   "outputs": [
    {
     "name": "stdout",
     "output_type": "stream",
     "text": [
      "('student',)\n",
      "('student1',)\n"
     ]
    }
   ],
   "source": [
    "db = mydb.cursor()\n",
    "\n",
    "db.execute('SHOW TABLES')\n",
    "\n",
    "for i in db:\n",
    "    print(i)"
   ]
  },
  {
   "cell_type": "code",
   "execution_count": 16,
   "metadata": {},
   "outputs": [],
   "source": [
    "db = mydb.cursor()\n",
    "\n",
    "query = \"INSERT INTO student1(student_ID,name,Age,Branch,Year,contact_Number,Backlogs,GPA)VALUES(%s,%s,%s,%s,%s,%s,%s,%s)\"\n",
    "\n",
    "db.executemany(query,data)\n",
    "\n",
    "mydb.commit()\n",
    "mydb.close()"
   ]
  },
  {
   "cell_type": "code",
   "execution_count": 18,
   "metadata": {},
   "outputs": [
    {
     "name": "stdout",
     "output_type": "stream",
     "text": [
      "(101, 'Hameed', 22, 'ECE', 'IV', '8137921241.0', 0, 7.5)\n",
      "(102, 'Subash', 22, 'ECE', 'IV', '9497425221.0', 0, 8.5)\n",
      "(151, 'Irfan', 22, 'MECH', 'IV', '9194965500.0', 1, 7.0)\n",
      "(106, 'Shafiq', 21, 'ECE', 'IV', '8780040090.0', 0, 7.2)\n",
      "(159, 'Usama', 23, 'MECH', 'IV', '8121000045.0', 5, 6.5)\n",
      "(201, 'Sajid', 22, 'CSE', 'IV', '8137220090.0', 2, 7.3)\n",
      "(159, 'Ismath', 21, 'CIVIL', 'IV', '7523600120.0', 0, 8.8)\n",
      "(159, 'Arun', 21, 'CIVIL', 'IV', '7828229631.0', 1, 7.6)\n",
      "(159, 'Nihaath', 22, 'EEE', 'IV', '8199002000.0', 0, 9.0)\n"
     ]
    }
   ],
   "source": [
    "mydb = mysql.connector.connect(\n",
    "    host = 'localhost',\n",
    "    user = 'root',\n",
    "    passwd = 'password',\n",
    "    database = 'student_data1'\n",
    ")\n",
    "\n",
    "db = mydb.cursor()\n",
    "\n",
    "db.execute('SELECT * FROM student1')\n",
    "\n",
    "for i in db:\n",
    "    print(i)"
   ]
  },
  {
   "cell_type": "code",
   "execution_count": 23,
   "metadata": {},
   "outputs": [
    {
     "name": "stdout",
     "output_type": "stream",
     "text": [
      "('Hameed', 'ECE')\n",
      "('Subash', 'ECE')\n",
      "('Shafiq', 'ECE')\n",
      "('Ismath', 'CIVIL')\n",
      "('Nihaath', 'EEE')\n"
     ]
    }
   ],
   "source": [
    "db = mydb.cursor()\n",
    "\n",
    "db.execute('SELECT name,Branch FROM student1 WHERE Backlogs=0')\n",
    "\n",
    "res = db.fetchall()\n",
    "\n",
    "for i in res:\n",
    "    print(i)"
   ]
  },
  {
   "cell_type": "code",
   "execution_count": 24,
   "metadata": {},
   "outputs": [
    {
     "name": "stdout",
     "output_type": "stream",
     "text": [
      "('Irfan', 'MECH')\n",
      "('Usama', 'MECH')\n",
      "('Sajid', 'CSE')\n",
      "('Arun', 'CIVIL')\n"
     ]
    }
   ],
   "source": [
    "db = mydb.cursor()\n",
    "\n",
    "db.execute('SELECT name,Branch FROM student1 WHERE Backlogs>0')\n",
    "\n",
    "res = db.fetchall()\n",
    "\n",
    "for i in res:\n",
    "    print(i)"
   ]
  },
  {
   "cell_type": "code",
   "execution_count": null,
   "metadata": {},
   "outputs": [],
   "source": []
  }
 ],
 "metadata": {
  "kernelspec": {
   "display_name": "Python 3",
   "language": "python",
   "name": "python3"
  },
  "language_info": {
   "codemirror_mode": {
    "name": "ipython",
    "version": 3
   },
   "file_extension": ".py",
   "mimetype": "text/x-python",
   "name": "python",
   "nbconvert_exporter": "python",
   "pygments_lexer": "ipython3",
   "version": "3.7.6"
  }
 },
 "nbformat": 4,
 "nbformat_minor": 4
}
