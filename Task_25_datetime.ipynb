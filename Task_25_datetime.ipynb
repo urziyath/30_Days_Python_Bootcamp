{
 "cells": [
  {
   "cell_type": "markdown",
   "metadata": {},
   "source": [
    "## Day 25 - Python_datetime"
   ]
  },
  {
   "cell_type": "markdown",
   "metadata": {},
   "source": [
    "#### 1.\tWrite a Python program to convert a string to datetime"
   ]
  },
  {
   "cell_type": "code",
   "execution_count": 13,
   "metadata": {},
   "outputs": [],
   "source": [
    "import datetime"
   ]
  },
  {
   "cell_type": "code",
   "execution_count": 16,
   "metadata": {},
   "outputs": [
    {
     "name": "stdout",
     "output_type": "stream",
     "text": [
      "2021-07-09 23:19:00\n"
     ]
    }
   ],
   "source": [
    "date_str = 'July 09 2021 11:19pm'\n",
    "date_obj = datetime.datetime.strptime(date_str,'%B %d %Y %I:%M%p')\n",
    "print(date_obj)"
   ]
  },
  {
   "cell_type": "markdown",
   "metadata": {},
   "source": [
    "#### 2.\tWrite a Python program to subtract five days (last working day) from current date"
   ]
  },
  {
   "cell_type": "code",
   "execution_count": 18,
   "metadata": {},
   "outputs": [
    {
     "name": "stdout",
     "output_type": "stream",
     "text": [
      "CURRENT DAY :  2021-07-09\n",
      "AFTER 5 DAYS DATE WILL BE :  2021-07-14\n"
     ]
    }
   ],
   "source": [
    "from datetime import date, timedelta\n",
    " \n",
    "today_date = date.today()\n",
    " \n",
    "print(\"CURRENT DAY : \", today_date)\n",
    "\n",
    "td = timedelta(5)\n",
    "print(\"AFTER 5 DAYS DATE WILL BE : \", today_date + td)"
   ]
  },
  {
   "cell_type": "markdown",
   "metadata": {},
   "source": [
    "#### 3.\tWrite a Python program to convert the date to datetime using a function "
   ]
  },
  {
   "cell_type": "code",
   "execution_count": 19,
   "metadata": {},
   "outputs": [
    {
     "name": "stdout",
     "output_type": "stream",
     "text": [
      "2021-07-09 00:00:00\n"
     ]
    }
   ],
   "source": [
    "from datetime import datetime\n",
    "dt = date.today()\n",
    "print(datetime.combine(dt, datetime.min.time()))"
   ]
  },
  {
   "cell_type": "markdown",
   "metadata": {},
   "source": [
    "#### 4.\tWrite a Python program to print next 7 days (week) starting from today"
   ]
  },
  {
   "cell_type": "code",
   "execution_count": 23,
   "metadata": {},
   "outputs": [
    {
     "name": "stdout",
     "output_type": "stream",
     "text": [
      "2021-07-10 23:29:17.840451\n",
      "2021-07-11 23:29:17.840451\n",
      "2021-07-12 23:29:17.840451\n",
      "2021-07-13 23:29:17.840451\n",
      "2021-07-14 23:29:17.840451\n",
      "2021-07-15 23:29:17.840451\n",
      "2021-07-16 23:29:17.840451\n"
     ]
    }
   ],
   "source": [
    "import datetime\n",
    "date_obj = datetime.datetime.today()\n",
    "for i in range(1, 8):\n",
    "      print(date_obj + datetime.timedelta(days=i))"
   ]
  },
  {
   "cell_type": "code",
   "execution_count": null,
   "metadata": {},
   "outputs": [],
   "source": []
  }
 ],
 "metadata": {
  "kernelspec": {
   "display_name": "Python 3",
   "language": "python",
   "name": "python3"
  },
  "language_info": {
   "codemirror_mode": {
    "name": "ipython",
    "version": 3
   },
   "file_extension": ".py",
   "mimetype": "text/x-python",
   "name": "python",
   "nbconvert_exporter": "python",
   "pygments_lexer": "ipython3",
   "version": "3.7.6"
  }
 },
 "nbformat": 4,
 "nbformat_minor": 4
}
