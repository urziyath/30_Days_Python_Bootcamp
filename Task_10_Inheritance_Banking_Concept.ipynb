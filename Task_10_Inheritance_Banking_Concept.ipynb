{
 "cells": [
  {
   "cell_type": "markdown",
   "metadata": {},
   "source": [
    "### Create a real time scenario for inheritance example Banking concept, ecommerce concept."
   ]
  },
  {
   "cell_type": "code",
   "execution_count": null,
   "metadata": {},
   "outputs": [],
   "source": [
    "#parent class --> bankAccount\n",
    "#child class --> User\n"
   ]
  },
  {
   "cell_type": "code",
   "execution_count": 102,
   "metadata": {},
   "outputs": [],
   "source": [
    "class bankAccount:\n",
    "    \n",
    "    def __init__(self,name,acc_type,balance):\n",
    "        self.name = name\n",
    "        self.acc_type = acc_type\n",
    "        self.balance = balance\n",
    "        \n",
    "    def getAccount(self):\n",
    "        print(f'Account Holder Name: {self.name}')\n",
    "        print(f'Account Type: {self.acc_type}\\n')\n",
    "    \n",
    "    def getBalance(self):\n",
    "        print(f'Availabe Balance : Rs {self.balance}\\n')\n",
    "        \n",
    "class User(bankAccount): #single-level inheritance\n",
    "    def __init__(self,name,acc_type,balance):\n",
    "        super().__init__(name,acc_type,balance)\n",
    "    \n",
    "class Transaction(bankAccount):#multiple inheritance\n",
    "        \n",
    "    def withdraw(self):\n",
    "        amount = float(input('Enter Your Amount: '))\n",
    "        if amount <= self.balance:\n",
    "            self.balance -= amount\n",
    "            print(f'Rs {amount} debited from your account!')\n",
    "        else:\n",
    "            print('Insufficient Balance!')\n",
    "            \n",
    "    def deposit(self):\n",
    "        amount = float(input('Enter Your Amount To Be Deposited: '))\n",
    "        self.balance += amount\n",
    "        print(f'Rs {amount} credited to your account!')\n",
    "        return self.getBalance()\n",
    "            \n",
    "\n",
    "        \n",
    "    \n",
    "    "
   ]
  },
  {
   "cell_type": "code",
   "execution_count": 103,
   "metadata": {},
   "outputs": [],
   "source": [
    "zi = Transaction('Ziyath','Savings',10000)         \n",
    "mi = Transaction('Misbah','Current',50000)  \n"
   ]
  },
  {
   "cell_type": "code",
   "execution_count": 88,
   "metadata": {},
   "outputs": [
    {
     "name": "stdout",
     "output_type": "stream",
     "text": [
      "Availabe Balance : Rs 10000\n",
      "\n",
      "Availabe Balance : Rs 50000\n",
      "\n"
     ]
    }
   ],
   "source": [
    "zi.getBalance()                         \n",
    "mi.getBalance()"
   ]
  },
  {
   "cell_type": "code",
   "execution_count": 89,
   "metadata": {},
   "outputs": [
    {
     "name": "stdout",
     "output_type": "stream",
     "text": [
      "Account Holder Name: Ziyath\n",
      "Account Type: Savings\n",
      "\n",
      "Account Holder Name: Misbah\n",
      "Account Type: Current\n",
      "\n"
     ]
    }
   ],
   "source": [
    "zi.getAccount()\n",
    "mi.getAccount()"
   ]
  },
  {
   "cell_type": "code",
   "execution_count": 104,
   "metadata": {},
   "outputs": [
    {
     "name": "stdout",
     "output_type": "stream",
     "text": [
      "Enter Your Amount To Be Deposited: 1000\n",
      "Rs 1000.0 credited to your account!\n",
      "Availabe Balance : Rs 11000.0\n",
      "\n"
     ]
    }
   ],
   "source": [
    "zi.deposit()"
   ]
  },
  {
   "cell_type": "code",
   "execution_count": 105,
   "metadata": {},
   "outputs": [
    {
     "name": "stdout",
     "output_type": "stream",
     "text": [
      "Enter Your Amount To Be Deposited: 5000\n",
      "Rs 5000.0 credited to your account!\n",
      "Availabe Balance : Rs 55000.0\n",
      "\n"
     ]
    }
   ],
   "source": [
    "mi.deposit()"
   ]
  },
  {
   "cell_type": "code",
   "execution_count": 85,
   "metadata": {},
   "outputs": [
    {
     "name": "stdout",
     "output_type": "stream",
     "text": [
      "Enter Your Amount: 5000\n",
      "5000.0 debited from your account!\n"
     ]
    }
   ],
   "source": [
    "zi.withdraw()"
   ]
  },
  {
   "cell_type": "code",
   "execution_count": 106,
   "metadata": {},
   "outputs": [
    {
     "name": "stdout",
     "output_type": "stream",
     "text": [
      "Enter Your Amount: 50000\n",
      "Rs 50000.0 debited from your account!\n"
     ]
    }
   ],
   "source": [
    "mi.withdraw()"
   ]
  },
  {
   "cell_type": "code",
   "execution_count": null,
   "metadata": {},
   "outputs": [],
   "source": []
  }
 ],
 "metadata": {
  "kernelspec": {
   "display_name": "Python 3",
   "language": "python",
   "name": "python3"
  },
  "language_info": {
   "codemirror_mode": {
    "name": "ipython",
    "version": 3
   },
   "file_extension": ".py",
   "mimetype": "text/x-python",
   "name": "python",
   "nbconvert_exporter": "python",
   "pygments_lexer": "ipython3",
   "version": "3.7.6"
  }
 },
 "nbformat": 4,
 "nbformat_minor": 4
}
