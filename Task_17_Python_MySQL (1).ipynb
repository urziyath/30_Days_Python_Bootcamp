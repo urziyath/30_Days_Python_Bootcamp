{
 "cells": [
  {
   "cell_type": "markdown",
   "metadata": {},
   "source": [
    "## DAY 17_Python_MySQL"
   ]
  },
  {
   "cell_type": "markdown",
   "metadata": {},
   "source": [
    "#### •\tCreate a connection for DB and print the version using a python program"
   ]
  },
  {
   "cell_type": "code",
   "execution_count": 1,
   "metadata": {},
   "outputs": [],
   "source": [
    "import mysql.connector"
   ]
  },
  {
   "cell_type": "code",
   "execution_count": 3,
   "metadata": {},
   "outputs": [
    {
     "name": "stdout",
     "output_type": "stream",
     "text": [
      "<mysql.connector.connection_cext.CMySQLConnection object at 0x000000583D7FD8C8>\n"
     ]
    }
   ],
   "source": [
    "mydb = mysql.connector.connect(\n",
    "    host = \"localhost\",\n",
    "    username = 'root',\n",
    "    password = 'password'\n",
    "    ) \n",
    "print(mydb)"
   ]
  },
  {
   "cell_type": "code",
   "execution_count": 4,
   "metadata": {},
   "outputs": [
    {
     "name": "stdout",
     "output_type": "stream",
     "text": [
      "DBMS Version : ('8.0.23',)\n"
     ]
    }
   ],
   "source": [
    "import sys\n",
    "cur = mydb.cursor()\n",
    "cur.execute(\"SELECT VERSION()\")\n",
    "data = cur.fetchone()\n",
    "print(\"DBMS Version :\",str(data))"
   ]
  },
  {
   "cell_type": "markdown",
   "metadata": {},
   "source": [
    "#### •\tCreate a multiple tables & insert data in table"
   ]
  },
  {
   "cell_type": "code",
   "execution_count": 13,
   "metadata": {},
   "outputs": [],
   "source": [
    "mydb = mysql.connector.connect(\n",
    "    host = 'localhost',\n",
    "    username = 'root',\n",
    "    password = 'password',\n",
    "    database = 'mydatabase'\n",
    "    )\n",
    "db = mydb.cursor()\n",
    "db.execute('CREATE TABLE customers (Employee_name VARCHAR(255), Employee_dep VARCHAR(255), Employee_id VARCHAR(255))')\n",
    "\n"
   ]
  },
  {
   "cell_type": "code",
   "execution_count": 14,
   "metadata": {},
   "outputs": [
    {
     "name": "stdout",
     "output_type": "stream",
     "text": [
      "('customers',)\n"
     ]
    }
   ],
   "source": [
    "mydb = mysql.connector.connect(\n",
    "    host = 'localhost',\n",
    "    username = 'root',\n",
    "    password = 'password',\n",
    "    database = 'mydatabase'\n",
    "    )\n",
    "db = mydb.cursor()\n",
    "db.execute('SHOW TABLES')\n",
    "\n",
    "for i in db:\n",
    "    print(i)"
   ]
  },
  {
   "cell_type": "code",
   "execution_count": 15,
   "metadata": {},
   "outputs": [],
   "source": [
    "db = mydb.cursor()\n",
    "db.execute(\"CREATE TABLE Office (emp_name VARCHAR(255), Employee_id VARCHAR(255) ,EMP_ADDRESS VARCHAR(255))\")"
   ]
  },
  {
   "cell_type": "code",
   "execution_count": 16,
   "metadata": {},
   "outputs": [],
   "source": [
    "db = mydb.cursor()\n",
    "db.execute('CREATE TABLE Student(rollno INT(24) , STUD_NAME VARCHAR(255) , MARK INT(3))')"
   ]
  },
  {
   "cell_type": "code",
   "execution_count": 17,
   "metadata": {},
   "outputs": [
    {
     "name": "stdout",
     "output_type": "stream",
     "text": [
      "('customers',)\n",
      "('office',)\n",
      "('student',)\n"
     ]
    }
   ],
   "source": [
    "db = mydb.cursor()\n",
    "db.execute('SHOW TABLES')\n",
    "\n",
    "for i in db:\n",
    "    print(i)"
   ]
  },
  {
   "cell_type": "markdown",
   "metadata": {},
   "source": [
    "#### •\tCreate a employee table and read all the employee name in the table using for loop\n",
    "\n"
   ]
  },
  {
   "cell_type": "code",
   "execution_count": 26,
   "metadata": {},
   "outputs": [],
   "source": [
    "mydb = mysql.connector.connect(\n",
    "    host = 'localhost',\n",
    "    username = 'root',\n",
    "    password = 'password',\n",
    "    database = 'mydatabase'\n",
    ")\n",
    "\n",
    "db = mydb.cursor()\n",
    "db.execute('CREATE TABLE Employee1(id INT, name VARCHAR(255), address VARCHAR(255))')"
   ]
  },
  {
   "cell_type": "code",
   "execution_count": 31,
   "metadata": {},
   "outputs": [
    {
     "name": "stdout",
     "output_type": "stream",
     "text": [
      "6 item inserted.\n"
     ]
    }
   ],
   "source": [
    "db = mydb.cursor()\n",
    "\n",
    "insert = \"INSERT INTO Employee1 (id,name, address) VALUES (%s,%s,%s)\"\n",
    "val = [\n",
    "  ('1','Ziyath', 'Big Nesavu Street'),\n",
    "  ('2','Jawa', 'Utrecht High Road'),\n",
    "  ('3','Ismath', 'Dubai Kurukku Sandhu'),\n",
    "  ('4','Usama', 'Periyapattinam,Ramnad'),\n",
    "  ('5','Bibin', 'Chingavam P.O,Kotayam'),\n",
    "  ('6','Govind', 'Pala,Kottayam')\n",
    "]\n",
    "\n",
    "db.executemany(insert, val)\n",
    "\n",
    "mydb.commit()\n",
    "\n",
    "print(db.rowcount, \"item inserted.\")"
   ]
  },
  {
   "cell_type": "code",
   "execution_count": 35,
   "metadata": {},
   "outputs": [
    {
     "name": "stdout",
     "output_type": "stream",
     "text": [
      "('Ziyath',)\n",
      "('Jawa',)\n",
      "('Ismath',)\n",
      "('Usama',)\n",
      "('Bibin',)\n",
      "('Govind',)\n"
     ]
    }
   ],
   "source": [
    "mydb = mysql.connector.connect(\n",
    "    host = 'localhost',\n",
    "    username = 'root',\n",
    "    password = 'password',\n",
    "    database = 'mydatabase'\n",
    ")\n",
    "\n",
    "db = mydb.cursor()\n",
    "db.execute(\"SELECT name FROM Employee1\")\n",
    "\n",
    "res = db.fetchall()\n",
    "\n",
    "for x in res:\n",
    "    print(x)"
   ]
  },
  {
   "cell_type": "code",
   "execution_count": null,
   "metadata": {},
   "outputs": [],
   "source": []
  }
 ],
 "metadata": {
  "kernelspec": {
   "display_name": "Python 3",
   "language": "python",
   "name": "python3"
  },
  "language_info": {
   "codemirror_mode": {
    "name": "ipython",
    "version": 3
   },
   "file_extension": ".py",
   "mimetype": "text/x-python",
   "name": "python",
   "nbconvert_exporter": "python",
   "pygments_lexer": "ipython3",
   "version": "3.7.6"
  }
 },
 "nbformat": 4,
 "nbformat_minor": 4
}
