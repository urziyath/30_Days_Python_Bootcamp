{
 "cells": [
  {
   "cell_type": "markdown",
   "metadata": {},
   "source": [
    "## DAY 24 JSON "
   ]
  },
  {
   "cell_type": "code",
   "execution_count": null,
   "metadata": {},
   "outputs": [],
   "source": []
  },
  {
   "cell_type": "code",
   "execution_count": 1,
   "metadata": {},
   "outputs": [],
   "source": [
    "import json"
   ]
  },
  {
   "cell_type": "code",
   "execution_count": 6,
   "metadata": {},
   "outputs": [
    {
     "name": "stdout",
     "output_type": "stream",
     "text": [
      "22\n"
     ]
    }
   ],
   "source": [
    "x = '{\"name\" : \"Hameed\",\"age\" : 22,\"Designation\" : \"Python Developer\"}'\n",
    "\n",
    "y = json.loads(x)\n",
    "\n",
    "print(y['age'])"
   ]
  },
  {
   "cell_type": "code",
   "execution_count": 7,
   "metadata": {},
   "outputs": [
    {
     "data": {
      "text/plain": [
       "'Hameed'"
      ]
     },
     "execution_count": 7,
     "metadata": {},
     "output_type": "execute_result"
    }
   ],
   "source": [
    "y['name']"
   ]
  },
  {
   "cell_type": "markdown",
   "metadata": {},
   "source": [
    "#### 1.\tCreate a JSON of all object types and import the JSON into a SQL Database\n",
    "Note: The JSON file should have valus of all Datatypes\n"
   ]
  },
  {
   "cell_type": "code",
   "execution_count": 25,
   "metadata": {},
   "outputs": [
    {
     "name": "stdout",
     "output_type": "stream",
     "text": [
      "<class 'list'>\n",
      "<class 'str'>\n"
     ]
    }
   ],
   "source": [
    "data = [{\"name\" : \"Hameed\",\n",
    "        \"age\" : 22, \"Degree\" : \"B.E\", \"Married\" : False ,\n",
    "        \"skills\" :'Python',\n",
    "        'tools': 'Jupyter Notebook','job' : None},\n",
    "       \n",
    "        {\"name\" : 'Habeeb','age': 21,'Degree' : 'BCA','Married' : False,\n",
    "        'skills' : 'CyberSecurity', 'tools' : 'Linux',\n",
    "       'job' : None},\n",
    "        \n",
    "        {\"name\" : 'Jawa','age': 30,'Degree' : 'B.E','Married' : True,\n",
    "        'skills' : 'Scala', 'tools' : 'Informatics',\n",
    "       'job' : 'Sr.Data Engineer'}\n",
    "        \n",
    "       ]\n",
    "print(type(data))\n",
    "\n",
    "json_data = json.dumps(data)\n",
    "print(type(json_data))"
   ]
  },
  {
   "cell_type": "code",
   "execution_count": 13,
   "metadata": {},
   "outputs": [],
   "source": [
    "import mysql.connector"
   ]
  },
  {
   "cell_type": "code",
   "execution_count": 14,
   "metadata": {},
   "outputs": [],
   "source": [
    "mydb = mysql.connector.connect(\n",
    "    host = 'localhost',\n",
    "    username = 'root',\n",
    "    password = 'password',\n",
    ")()\n",
    "db = mydb.cursor\n",
    "db.execute('CREATE DATABASE json_data')\n"
   ]
  },
  {
   "cell_type": "code",
   "execution_count": 18,
   "metadata": {},
   "outputs": [],
   "source": [
    "mydb = mysql.connector.connect(\n",
    "    host = 'localhost',\n",
    "    username = 'root',\n",
    "    password = 'password',\n",
    "    database = 'json_data'\n",
    ")\n",
    "db = mydb.cursor()\n",
    "db.execute('CREATE TABLE json_records(name VARCHAR(255),age INT,degree VARCHAR(255),married VARCHAR(255),skills VARCHAR(255),tools VARCHAR(255),job VARCHAR(255))')"
   ]
  },
  {
   "cell_type": "code",
   "execution_count": 30,
   "metadata": {},
   "outputs": [
    {
     "data": {
      "text/plain": [
       "True"
      ]
     },
     "execution_count": 30,
     "metadata": {},
     "output_type": "execute_result"
    }
   ],
   "source": [
    "db = mydb.cursor()\n",
    "\n",
    "for i in data:\n",
    "    name = i.get('name')\n",
    "    age = i.get('age')\n",
    "    Degree = i.get('Degree')\n",
    "    Married = i.get('Married')\n",
    "    skills = i.get('skills')\n",
    "    tools = i.get('tools')\n",
    "    job = i.get('jobs')\n",
    "    db.execute('INSERT INTO json_records(name,age,Degree,Married,skills,tools,job)VALUES(%s,%s,%s,%s,%s,%s,%s)',(name,age,Degree,Married,skills,tools,job))\n",
    "\n",
    "mydb.commit()\n",
    "db.close()\n"
   ]
  },
  {
   "cell_type": "code",
   "execution_count": 31,
   "metadata": {},
   "outputs": [
    {
     "name": "stdout",
     "output_type": "stream",
     "text": [
      "('Hameed', 22, 'B.E', '0', 'Python', 'Jupyter Notebook', None)\n",
      "('Habeeb', 21, 'BCA', '0', 'CyberSecurity', 'Linux', None)\n",
      "('Jawa', 30, 'B.E', '1', 'Scala', 'Informatics', None)\n"
     ]
    }
   ],
   "source": [
    "mydb = mysql.connector.connect(\n",
    "    host = 'localhost',\n",
    "    username = 'root',\n",
    "    password = 'password',\n",
    "    database = 'json_data'\n",
    ")\n",
    "db = mydb.cursor()\n",
    "db.execute('SELECT * FROM json_records')\n",
    "res = db.fetchall()\n",
    "\n",
    "for i in res:\n",
    "    print(i)"
   ]
  },
  {
   "cell_type": "code",
   "execution_count": null,
   "metadata": {},
   "outputs": [],
   "source": []
  }
 ],
 "metadata": {
  "kernelspec": {
   "display_name": "Python 3",
   "language": "python",
   "name": "python3"
  },
  "language_info": {
   "codemirror_mode": {
    "name": "ipython",
    "version": 3
   },
   "file_extension": ".py",
   "mimetype": "text/x-python",
   "name": "python",
   "nbconvert_exporter": "python",
   "pygments_lexer": "ipython3",
   "version": "3.7.6"
  }
 },
 "nbformat": 4,
 "nbformat_minor": 4
}
