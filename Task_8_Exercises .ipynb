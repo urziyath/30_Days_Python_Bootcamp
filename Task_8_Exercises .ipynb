{
 "cells": [
  {
   "cell_type": "markdown",
   "metadata": {},
   "source": [
    "## Day 8 Exercise"
   ]
  },
  {
   "cell_type": "markdown",
   "metadata": {},
   "source": [
    "#### 1. Write a Python script to merge two Python dictionaries  "
   ]
  },
  {
   "cell_type": "code",
   "execution_count": 1,
   "metadata": {},
   "outputs": [
    {
     "name": "stdout",
     "output_type": "stream",
     "text": [
      "{'Ismath': 8, 'Irfan': 7, 'Usama': 9}\n",
      "{'Govind': 10, 'Bibin': 8, 'Rilwan': 7}\n"
     ]
    }
   ],
   "source": [
    "dict1 = {'Ismath' : 8,\n",
    "         'Irfan' : 7,\n",
    "         'Usama' : 9}\n",
    "\n",
    "dict2 = {'Govind' : 10,\n",
    "         'Bibin': 8,\n",
    "         'Rilwan' : 7}\n",
    "\n",
    "print(dict1)\n",
    "print(dict2)"
   ]
  },
  {
   "cell_type": "code",
   "execution_count": 2,
   "metadata": {},
   "outputs": [
    {
     "name": "stdout",
     "output_type": "stream",
     "text": [
      "{'Ismath': 8, 'Irfan': 7, 'Usama': 9, 'Govind': 10, 'Bibin': 8, 'Rilwan': 7}\n"
     ]
    }
   ],
   "source": [
    "dict1.update(dict2)\n",
    "\n",
    "print(dict1)"
   ]
  },
  {
   "cell_type": "markdown",
   "metadata": {},
   "source": [
    "####  Write a program to sort the value from descending to ascending in list and convert it in to a set"
   ]
  },
  {
   "cell_type": "code",
   "execution_count": 23,
   "metadata": {},
   "outputs": [
    {
     "name": "stdout",
     "output_type": "stream",
     "text": [
      "[2, 4, 9, 45, 26, 25, 3, 6, 41, 6, 55]\n"
     ]
    }
   ],
   "source": [
    "num = [2,4,9,45,26,25,3,6,41,6,55]\n",
    "print(num)"
   ]
  },
  {
   "cell_type": "code",
   "execution_count": 28,
   "metadata": {},
   "outputs": [
    {
     "name": "stdout",
     "output_type": "stream",
     "text": [
      "[55, 45, 41, 26, 25, 9, 6, 6, 4, 3, 2]\n"
     ]
    }
   ],
   "source": [
    "num.sort(reverse = True)\n",
    "print(num)"
   ]
  },
  {
   "cell_type": "code",
   "execution_count": 29,
   "metadata": {},
   "outputs": [
    {
     "name": "stdout",
     "output_type": "stream",
     "text": [
      "{2, 3, 4, 6, 41, 9, 45, 55, 25, 26}\n"
     ]
    }
   ],
   "source": [
    "num_set = set(num)\n",
    "print(num_set)"
   ]
  },
  {
   "cell_type": "code",
   "execution_count": 30,
   "metadata": {},
   "outputs": [
    {
     "data": {
      "text/plain": [
       "set"
      ]
     },
     "execution_count": 30,
     "metadata": {},
     "output_type": "execute_result"
    }
   ],
   "source": [
    "type(num_set)"
   ]
  },
  {
   "cell_type": "markdown",
   "metadata": {},
   "source": [
    "#### Write a Python program to list number of items in a dictionary key and sort the list with the help of a function & without the function."
   ]
  },
  {
   "cell_type": "code",
   "execution_count": 31,
   "metadata": {},
   "outputs": [
    {
     "name": "stdout",
     "output_type": "stream",
     "text": [
      "Original MarkList of student: {'Usama': [7, 5, 8], 'Ziyath': [4, 6, 5], 'Ismath': [7, 5, 8]}\n"
     ]
    }
   ],
   "source": [
    "marklist = {'Usama' : [7,5,8],\n",
    "            'Ziyath': [4,6,5],\n",
    "            'Ismath': [7,5,8]}\n",
    "print('Original MarkList of student:',marklist)\n"
   ]
  },
  {
   "cell_type": "code",
   "execution_count": 32,
   "metadata": {},
   "outputs": [
    {
     "name": "stdout",
     "output_type": "stream",
     "text": [
      "Sorted Marklist :  {'Ismath': [5, 7, 8], 'Usama': [5, 7, 8], 'Ziyath': [4, 5, 6]}\n"
     ]
    }
   ],
   "source": [
    "#without function\n",
    "\n",
    "sorted_marklist = {}\n",
    "for i in sorted(marklist):\n",
    "    sorted_marklist[i] = sorted(marklist[i])\n",
    "    \n",
    "print(\"Sorted Marklist : \",sorted_marklist)"
   ]
  },
  {
   "cell_type": "code",
   "execution_count": 33,
   "metadata": {},
   "outputs": [],
   "source": [
    "#with function\n",
    "\n",
    "def makesort(dict1):\n",
    "    sorted_mark = {}\n",
    "    for i in sorted(dict1):\n",
    "        sorted_mark[i] = sorted(dict1[i])\n",
    "    print(\"After Sorting:\",sorted_mark)\n",
    "    \n",
    "    "
   ]
  },
  {
   "cell_type": "code",
   "execution_count": 34,
   "metadata": {},
   "outputs": [
    {
     "name": "stdout",
     "output_type": "stream",
     "text": [
      "After Sorting: {'Ismath': [5, 7, 8], 'Usama': [5, 7, 8], 'Ziyath': [4, 5, 6]}\n"
     ]
    }
   ],
   "source": [
    "marklist = {'Usama' : [7,5,8],\n",
    "            'Ziyath': [4,6,5],\n",
    "            'Ismath': [7,5,8]}\n",
    "makesort(marklist)\n"
   ]
  },
  {
   "cell_type": "markdown",
   "metadata": {},
   "source": [
    "#### Write a Python program to get a string from a given string (user input) and change the first occurrence of the word to a user specified input. "
   ]
  },
  {
   "cell_type": "code",
   "execution_count": 40,
   "metadata": {},
   "outputs": [],
   "source": [
    "def greet():\n",
    "    user_name = input(\"Enter Your Name: \")\n",
    "    greet = f'Welcome {user_name} !'\n",
    "    return greet\n"
   ]
  },
  {
   "cell_type": "code",
   "execution_count": 41,
   "metadata": {},
   "outputs": [
    {
     "name": "stdout",
     "output_type": "stream",
     "text": [
      "Enter Your Name: Hameed\n"
     ]
    },
    {
     "data": {
      "text/plain": [
       "'Welcome Hameed !'"
      ]
     },
     "execution_count": 41,
     "metadata": {},
     "output_type": "execute_result"
    }
   ],
   "source": [
    "greet()"
   ]
  },
  {
   "cell_type": "markdown",
   "metadata": {},
   "source": [
    "#### Write a Python program to get a string from a given string where all occurrences of its first char have been changed to capital letter"
   ]
  },
  {
   "cell_type": "code",
   "execution_count": 47,
   "metadata": {},
   "outputs": [
    {
     "name": "stdout",
     "output_type": "stream",
     "text": [
      "Enter Anything: hi, i am hameed ziyath\n",
      "Hi, I Am Hameed Ziyath\n"
     ]
    }
   ],
   "source": [
    "user_input = input(\"Enter Anything: \")\n",
    "text = user_input.title()\n",
    "print(text)"
   ]
  },
  {
   "cell_type": "markdown",
   "metadata": {},
   "source": [
    "#### Write a Python program to find the repeated items of a list "
   ]
  },
  {
   "cell_type": "code",
   "execution_count": 48,
   "metadata": {},
   "outputs": [
    {
     "name": "stdout",
     "output_type": "stream",
     "text": [
      "[1, 6, 7]\n"
     ]
    }
   ],
   "source": [
    "list1 = [1,5,6,4,6,7,2,6,7,1,9,8]\n",
    "list_ = []\n",
    "r_list = []\n",
    "\n",
    "for i in list1:\n",
    "    if i not in list_:\n",
    "        list_.append(i)\n",
    "    else:\n",
    "        r_list.append(i)\n",
    "        \n",
    "#here converting list to set and again convert to list\n",
    "#inorder to get any duplicate value again.\n",
    "print(list(set(r_list)))   \n",
    "        "
   ]
  },
  {
   "cell_type": "markdown",
   "metadata": {},
   "source": [
    "#### Write a Python program to check the sum of three elements and divided by a value which is given as an input by the user "
   ]
  },
  {
   "cell_type": "code",
   "execution_count": 1,
   "metadata": {},
   "outputs": [
    {
     "name": "stdout",
     "output_type": "stream",
     "text": [
      "Enter any number : 5\n",
      "Enter any number : 7\n",
      "Enter any number : 5\n",
      "17\n",
      "Enter any number to divide: 3\n",
      "5.666666666666667\n"
     ]
    }
   ],
   "source": [
    "n1 = int(input('Enter any number : '))\n",
    "n2 = int(input('Enter any number : '))\n",
    "n3 = int(input('Enter any number : '))\n",
    "\n",
    "total = n1+n2+n3 \n",
    "print(total)\n",
    "\n",
    "user_val = int(input('Enter any number to divide: '))\n",
    "\n",
    "if user_val == 0:\n",
    "    print('Cant Divide it by 0, try someother number!')\n",
    "else:\n",
    "    print(total/user_val)\n",
    "        "
   ]
  },
  {
   "cell_type": "code",
   "execution_count": 2,
   "metadata": {},
   "outputs": [
    {
     "name": "stdout",
     "output_type": "stream",
     "text": [
      "Enter any number : 4\n",
      "Enter any number : 8\n",
      "Enter any number : 7\n",
      "19\n",
      "Enter any number to divide: 0\n",
      "Cant Divide it by 0, try someother number!\n"
     ]
    }
   ],
   "source": [
    "n1 = int(input('Enter any number : '))\n",
    "n2 = int(input('Enter any number : '))\n",
    "n3 = int(input('Enter any number : '))\n",
    "\n",
    "total = n1+n2+n3 \n",
    "print(total)\n",
    "\n",
    "user_val = int(input('Enter any number to divide: '))\n",
    "\n",
    "if user_val == 0:\n",
    "    print('Cant Divide it by 0, try someother number!')\n",
    "else:\n",
    "    print(total/user_val)\n",
    "        "
   ]
  },
  {
   "cell_type": "markdown",
   "metadata": {},
   "source": [
    "#### Write a Python program to find the Mean,median,mode among three given numbers "
   ]
  },
  {
   "cell_type": "code",
   "execution_count": 43,
   "metadata": {},
   "outputs": [
    {
     "name": "stdout",
     "output_type": "stream",
     "text": [
      "Enter any number: 12\n",
      "Enter any number: 25\n",
      "Enter any number: 22\n",
      "[12, 25, 22]\n"
     ]
    }
   ],
   "source": [
    "user_input1 = int(input('Enter any number: '))\n",
    "user_input2 = int(input('Enter any number: '))\n",
    "user_input3 = int(input('Enter any number: '))\n",
    "l1 = [user_input1,user_input2,user_input3]\n",
    "print(l1)"
   ]
  },
  {
   "cell_type": "code",
   "execution_count": 52,
   "metadata": {
    "scrolled": true
   },
   "outputs": [
    {
     "name": "stdout",
     "output_type": "stream",
     "text": [
      "Mean: 19.666666666666668\n",
      "Median: 22\n",
      "No mode found\n"
     ]
    }
   ],
   "source": [
    "# with using external library\n",
    "from statistics import StatisticsError\n",
    "import statistics as st\n",
    "    \n",
    "print('Mean:',st.mean(l1))\n",
    "print('Median:',st.median(l1))\n",
    "\n",
    "try:\n",
    "    print ('Mode: ',st.mode(l1))\n",
    "except StatisticsError:\n",
    "    print ('No mode found')\n"
   ]
  },
  {
   "cell_type": "markdown",
   "metadata": {},
   "source": [
    "#### Write a Python program to swap cases of a given string "
   ]
  },
  {
   "cell_type": "code",
   "execution_count": 54,
   "metadata": {},
   "outputs": [],
   "source": [
    "def swap_case(str1):\n",
    "    str2 = ''\n",
    "    for i in str1:\n",
    "        if i.isupper():\n",
    "            str2 += i.lower()\n",
    "        else:\n",
    "            str2 += i.upper()\n",
    "    return str2"
   ]
  },
  {
   "cell_type": "code",
   "execution_count": 55,
   "metadata": {},
   "outputs": [
    {
     "data": {
      "text/plain": [
       "'hAMEED zIYATH'"
      ]
     },
     "execution_count": 55,
     "metadata": {},
     "output_type": "execute_result"
    }
   ],
   "source": [
    "swap_case('Hameed Ziyath')"
   ]
  },
  {
   "cell_type": "markdown",
   "metadata": {},
   "source": [
    "#### Write a program to convert an integer to binary & octa decimal "
   ]
  },
  {
   "cell_type": "code",
   "execution_count": 56,
   "metadata": {},
   "outputs": [],
   "source": [
    "def dec_to_octal(n):\n",
    "    octalnum = [0] * 100\n",
    "    i = 0\n",
    "    while (n != 0):\n",
    "        octalnum[i] = n % 8\n",
    "        n = int(n / 8)\n",
    "        i += 1\n",
    "    for j in range(i - 1, -1, -1):\n",
    "        print(octalnum[j], end=\"\")"
   ]
  },
  {
   "cell_type": "code",
   "execution_count": 57,
   "metadata": {},
   "outputs": [
    {
     "name": "stdout",
     "output_type": "stream",
     "text": [
      "64"
     ]
    }
   ],
   "source": [
    "dec_to_octal(52)"
   ]
  },
  {
   "cell_type": "code",
   "execution_count": 58,
   "metadata": {},
   "outputs": [
    {
     "name": "stdout",
     "output_type": "stream",
     "text": [
      "5"
     ]
    }
   ],
   "source": [
    "dec_to_octal(5)"
   ]
  },
  {
   "cell_type": "code",
   "execution_count": 59,
   "metadata": {},
   "outputs": [
    {
     "name": "stdout",
     "output_type": "stream",
     "text": [
      "Thank You\n"
     ]
    }
   ],
   "source": [
    "print('Thank You')"
   ]
  },
  {
   "cell_type": "code",
   "execution_count": null,
   "metadata": {},
   "outputs": [],
   "source": []
  }
 ],
 "metadata": {
  "kernelspec": {
   "display_name": "Python 3",
   "language": "python",
   "name": "python3"
  },
  "language_info": {
   "codemirror_mode": {
    "name": "ipython",
    "version": 3
   },
   "file_extension": ".py",
   "mimetype": "text/x-python",
   "name": "python",
   "nbconvert_exporter": "python",
   "pygments_lexer": "ipython3",
   "version": "3.7.6"
  }
 },
 "nbformat": 4,
 "nbformat_minor": 4
}
