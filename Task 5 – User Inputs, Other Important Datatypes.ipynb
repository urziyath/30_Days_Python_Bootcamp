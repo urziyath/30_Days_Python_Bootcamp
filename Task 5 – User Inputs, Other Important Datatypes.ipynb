{
 "cells": [
  {
   "cell_type": "markdown",
   "metadata": {},
   "source": [
    "## Day 5 – User Inputs, Other Important Datatypes"
   ]
  },
  {
   "cell_type": "markdown",
   "metadata": {},
   "source": [
    "### Exercise"
   ]
  },
  {
   "cell_type": "markdown",
   "metadata": {},
   "source": [
    "#### 1)\tWrite a program to create a list of n integer values and do the following\n",
    "•\tAdd an item in to the list (using function)\n",
    "•\tDelete (using function)\n",
    "•\tStore the largest number from the list to a variable\n",
    "•\tStore the Smallest number from the list to a variable\n"
   ]
  },
  {
   "cell_type": "code",
   "execution_count": 4,
   "metadata": {},
   "outputs": [
    {
     "name": "stdout",
     "output_type": "stream",
     "text": [
      "Enter How many elements you want in list: 8\n",
      "Lst = [1, 2, 3, 4, 5, 6, 7, 8]\n"
     ]
    }
   ],
   "source": [
    "lst = []\n",
    "ele = int(input(\"Enter How many elements you want in list: \"))\n",
    "\n",
    "for i in range(1,ele+1):\n",
    "    lst.append(i)\n",
    "    \n",
    "print(\"Lst =\",lst)"
   ]
  },
  {
   "cell_type": "code",
   "execution_count": 16,
   "metadata": {},
   "outputs": [
    {
     "name": "stdout",
     "output_type": "stream",
     "text": [
      "After inserting: [10, 1, 2, 3, 4, 5, 6, 7, 8]\n"
     ]
    }
   ],
   "source": [
    "# Add an item in to the list (using function)\n",
    "\n",
    "lst.insert(0,10)\n",
    "print(\"After inserting:\",lst)"
   ]
  },
  {
   "cell_type": "code",
   "execution_count": 17,
   "metadata": {},
   "outputs": [
    {
     "name": "stdout",
     "output_type": "stream",
     "text": [
      "[10, 1, 2, 3, 4, 6, 7]\n"
     ]
    }
   ],
   "source": [
    "#Delete (using function)\n",
    "\n",
    "lst.pop()   #last value will be removed\n",
    "\n",
    "lst.remove(5) #desired value will be removed\n",
    "\n",
    "print(lst)"
   ]
  },
  {
   "cell_type": "code",
   "execution_count": 20,
   "metadata": {},
   "outputs": [
    {
     "name": "stdout",
     "output_type": "stream",
     "text": [
      "largest number in the list: 10\n"
     ]
    }
   ],
   "source": [
    "# Store the largest number from the list to a variable \n",
    "\n",
    "max_value = max(lst)\n",
    "\n",
    "print(\"largest number in the list:\",max_value)"
   ]
  },
  {
   "cell_type": "code",
   "execution_count": 21,
   "metadata": {},
   "outputs": [
    {
     "name": "stdout",
     "output_type": "stream",
     "text": [
      "Smallest number in the list: 1\n"
     ]
    }
   ],
   "source": [
    "#Store the Smallest number from the list to a variable\n",
    "\n",
    "min_value = min(lst)\n",
    "\n",
    "print(\"Smallest number in the list:\",min_value)"
   ]
  },
  {
   "cell_type": "markdown",
   "metadata": {},
   "source": [
    "#### 2) Create a tuple and print the reverse of the created tuple"
   ]
  },
  {
   "cell_type": "code",
   "execution_count": 23,
   "metadata": {},
   "outputs": [
    {
     "name": "stdout",
     "output_type": "stream",
     "text": [
      "(8, 5, 4, 20, 43, 50)\n"
     ]
    }
   ],
   "source": [
    "numbers = (8,5,4,20,43,50)\n",
    "\n",
    "print(numbers)"
   ]
  },
  {
   "cell_type": "code",
   "execution_count": 25,
   "metadata": {},
   "outputs": [
    {
     "name": "stdout",
     "output_type": "stream",
     "text": [
      "(50, 43, 20, 4, 5, 8)\n"
     ]
    }
   ],
   "source": [
    "#reversing tuple\n",
    "\n",
    "reversed_num = numbers[::-1]\n",
    "\n",
    "print(reversed_num)"
   ]
  },
  {
   "cell_type": "markdown",
   "metadata": {},
   "source": [
    "#### 3) Create a tuple and convert tuple into list"
   ]
  },
  {
   "cell_type": "code",
   "execution_count": 26,
   "metadata": {},
   "outputs": [
    {
     "name": "stdout",
     "output_type": "stream",
     "text": [
      "('Mango', 'Apple', 'Pine Apple', 'Orange', 'Kiwi')\n"
     ]
    }
   ],
   "source": [
    "fruits = ('Mango','Apple','Pine Apple','Orange','Kiwi')\n",
    "\n",
    "print(fruits)"
   ]
  },
  {
   "cell_type": "code",
   "execution_count": 27,
   "metadata": {},
   "outputs": [
    {
     "name": "stdout",
     "output_type": "stream",
     "text": [
      "['Mango', 'Apple', 'Pine Apple', 'Orange', 'Kiwi']\n"
     ]
    }
   ],
   "source": [
    "#converting tuple to list\n",
    "\n",
    "lst_fruits = list(fruits)\n",
    "\n",
    "print(lst_fruits)"
   ]
  },
  {
   "cell_type": "code",
   "execution_count": null,
   "metadata": {},
   "outputs": [],
   "source": []
  }
 ],
 "metadata": {
  "kernelspec": {
   "display_name": "Python 3",
   "language": "python",
   "name": "python3"
  },
  "language_info": {
   "codemirror_mode": {
    "name": "ipython",
    "version": 3
   },
   "file_extension": ".py",
   "mimetype": "text/x-python",
   "name": "python",
   "nbconvert_exporter": "python",
   "pygments_lexer": "ipython3",
   "version": "3.7.6"
  }
 },
 "nbformat": 4,
 "nbformat_minor": 4
}
