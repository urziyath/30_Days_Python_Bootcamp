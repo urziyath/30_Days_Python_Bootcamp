{
 "cells": [
  {
   "cell_type": "markdown",
   "metadata": {},
   "source": [
    "##  Day 4 – Python - Variables & Data types\n"
   ]
  },
  {
   "cell_type": "markdown",
   "metadata": {},
   "source": [
    "#### 1)Create three variables (a,b,c) to same value of any integer & do the following\n",
    "a) Divide a by 10\n",
    "b) Multiply b by 50\n",
    "c) Add c value by 60"
   ]
  },
  {
   "cell_type": "code",
   "execution_count": 1,
   "metadata": {},
   "outputs": [
    {
     "name": "stdout",
     "output_type": "stream",
     "text": [
      "Divide a by 10 : 2.0\n",
      "Multiply b by 50 : 1000\n",
      "Add c value by 60 : 80\n"
     ]
    }
   ],
   "source": [
    "a = b = c = 20\n",
    "\n",
    "#Divide a by 10\n",
    "print(\"Divide a by 10 :\",a/10)\n",
    "\n",
    "#Multiply b by 50\n",
    "print(\"Multiply b by 50 :\",b*50)\n",
    "\n",
    "#Add c value by 60\n",
    "print(\"Add c value by 60 :\", c+60)"
   ]
  },
  {
   "cell_type": "markdown",
   "metadata": {},
   "source": [
    "#### 2) Create a String variable of 5 characters and replace the 3rd character with G"
   ]
  },
  {
   "cell_type": "code",
   "execution_count": 5,
   "metadata": {},
   "outputs": [
    {
     "name": "stdout",
     "output_type": "stream",
     "text": [
      "Name is : Rohin\n",
      "Replaced name is : RoGin\n"
     ]
    }
   ],
   "source": [
    "name = 'Rohin'\n",
    "print('Name is :',name)\n",
    "replaced_name = name.replace(\"h\",\"G\")\n",
    "print(\"Replaced name is :\", replaced_name)\n"
   ]
  },
  {
   "cell_type": "markdown",
   "metadata": {},
   "source": [
    "#### 3) Create two values (a,b) of int,float data type & convert the vise versa, Hint : convert a from int to float datatype & b from float to int datatype "
   ]
  },
  {
   "cell_type": "code",
   "execution_count": 7,
   "metadata": {},
   "outputs": [
    {
     "name": "stdout",
     "output_type": "stream",
     "text": [
      "10\n",
      "Converting a to float : 10.0\n",
      "12.5\n",
      "Converting b to int : 12\n"
     ]
    }
   ],
   "source": [
    "a,b = 10,12.5\n",
    "\n",
    "print(a)\n",
    "print(\"Converting a to float :\", float(a))\n",
    "\n",
    "print(b)\n",
    "print(\"Converting b to int :\", int(b))"
   ]
  },
  {
   "cell_type": "code",
   "execution_count": null,
   "metadata": {},
   "outputs": [],
   "source": []
  }
 ],
 "metadata": {
  "kernelspec": {
   "display_name": "Python 3",
   "language": "python",
   "name": "python3"
  },
  "language_info": {
   "codemirror_mode": {
    "name": "ipython",
    "version": 3
   },
   "file_extension": ".py",
   "mimetype": "text/x-python",
   "name": "python",
   "nbconvert_exporter": "python",
   "pygments_lexer": "ipython3",
   "version": "3.7.6"
  }
 },
 "nbformat": 4,
 "nbformat_minor": 4
}
